{
 "cells": [
  {
   "cell_type": "code",
   "execution_count": 1,
   "id": "e1a1d9e4",
   "metadata": {},
   "outputs": [],
   "source": [
    "import os\n",
    "import requests\n",
    "import zipfile"
   ]
  },
  {
   "cell_type": "code",
   "execution_count": 4,
   "id": "091eb83a",
   "metadata": {},
   "outputs": [
    {
     "name": "stdout",
     "output_type": "stream",
     "text": [
      "..\\Data\\raw_data\n"
     ]
    }
   ],
   "source": [
    "download_dir = os.path.join('..','Data','raw_data')\n",
    "print(download_dir)"
   ]
  },
  {
   "cell_type": "code",
   "execution_count": 5,
   "id": "2372c392",
   "metadata": {},
   "outputs": [
    {
     "name": "stdout",
     "output_type": "stream",
     "text": [
      "..\\Data\\raw_data\\online_retail.zip\n"
     ]
    }
   ],
   "source": [
    "zip_path = os.path.join(download_dir,'online_retail.zip')\n",
    "print(zip_path)"
   ]
  },
  {
   "cell_type": "code",
   "execution_count": 7,
   "id": "91329fc4",
   "metadata": {},
   "outputs": [],
   "source": [
    "os.makedirs(download_dir,exist_ok = True)"
   ]
  },
  {
   "cell_type": "code",
   "execution_count": 8,
   "id": "21e215cc",
   "metadata": {},
   "outputs": [
    {
     "name": "stdout",
     "output_type": "stream",
     "text": [
      "'..\\\\Data\\\\raw_data'\n"
     ]
    }
   ],
   "source": [
    "print(repr(download_dir))\n"
   ]
  },
  {
   "cell_type": "code",
   "execution_count": 13,
   "id": "abeb01bc",
   "metadata": {},
   "outputs": [
    {
     "name": "stdout",
     "output_type": "stream",
     "text": [
      "Current Working Directory: d:\\projects\\online-retail-data-analysis\\notebooks\n"
     ]
    }
   ],
   "source": [
    "import os\n",
    "print(\"Current Working Directory:\", os.getcwd())\n"
   ]
  },
  {
   "cell_type": "code",
   "execution_count": 14,
   "id": "7c2f418d",
   "metadata": {},
   "outputs": [
    {
     "name": "stdout",
     "output_type": "stream",
     "text": [
      "Resolved Path: d:\\projects\\online-retail-data-analysis\\online_reatil\\raw_data\n"
     ]
    }
   ],
   "source": [
    "download_dir = os.path.join('..', 'online_reatil', 'raw_data')\n",
    "print(\"Resolved Path:\", os.path.abspath(download_dir))\n"
   ]
  },
  {
   "cell_type": "code",
   "execution_count": 15,
   "id": "98a2f79b",
   "metadata": {},
   "outputs": [],
   "source": [
    "os.makedirs(download_dir, exist_ok=True)\n"
   ]
  },
  {
   "cell_type": "code",
   "execution_count": 12,
   "id": "373f29e4",
   "metadata": {},
   "outputs": [
    {
     "name": "stdout",
     "output_type": "stream",
     "text": [
      "Exists? True\n"
     ]
    }
   ],
   "source": [
    "print(\"Exists?\", os.path.exists(download_dir))  # Should print: True\n"
   ]
  },
  {
   "cell_type": "code",
   "execution_count": null,
   "id": "431174de",
   "metadata": {},
   "outputs": [],
   "source": [
    "It "
   ]
  }
 ],
 "metadata": {
  "kernelspec": {
   "display_name": "online_retail_env",
   "language": "python",
   "name": "python3"
  },
  "language_info": {
   "codemirror_mode": {
    "name": "ipython",
    "version": 3
   },
   "file_extension": ".py",
   "mimetype": "text/x-python",
   "name": "python",
   "nbconvert_exporter": "python",
   "pygments_lexer": "ipython3",
   "version": "3.11.13"
  }
 },
 "nbformat": 4,
 "nbformat_minor": 5
}
