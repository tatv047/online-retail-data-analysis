{
 "cells": [
  {
   "cell_type": "code",
   "execution_count": 5,
   "id": "cfe19167",
   "metadata": {},
   "outputs": [],
   "source": [
    "import numpy as np \n",
    "import pandas as pd\n",
    "from scipy import stats\n",
    "import lifetimes\n",
    "import seaborn as sns \n",
    "import matplotlib.pyplot as plt"
   ]
  },
  {
   "cell_type": "code",
   "execution_count": 2,
   "id": "ff7f3159",
   "metadata": {},
   "outputs": [
    {
     "data": {
      "text/html": [
       "<div>\n",
       "<style scoped>\n",
       "    .dataframe tbody tr th:only-of-type {\n",
       "        vertical-align: middle;\n",
       "    }\n",
       "\n",
       "    .dataframe tbody tr th {\n",
       "        vertical-align: top;\n",
       "    }\n",
       "\n",
       "    .dataframe thead th {\n",
       "        text-align: right;\n",
       "    }\n",
       "</style>\n",
       "<table border=\"1\" class=\"dataframe\">\n",
       "  <thead>\n",
       "    <tr style=\"text-align: right;\">\n",
       "      <th></th>\n",
       "      <th>InvoiceNo</th>\n",
       "      <th>StockCode</th>\n",
       "      <th>Description</th>\n",
       "      <th>Quantity</th>\n",
       "      <th>InvoiceDate</th>\n",
       "      <th>UnitPrice</th>\n",
       "      <th>CustomerID</th>\n",
       "      <th>Country</th>\n",
       "    </tr>\n",
       "  </thead>\n",
       "  <tbody>\n",
       "    <tr>\n",
       "      <th>0</th>\n",
       "      <td>536365</td>\n",
       "      <td>85123A</td>\n",
       "      <td>WHITE HANGING HEART T-LIGHT HOLDER</td>\n",
       "      <td>6</td>\n",
       "      <td>2010-12-01 08:26:00</td>\n",
       "      <td>2.55</td>\n",
       "      <td>17850.0</td>\n",
       "      <td>United Kingdom</td>\n",
       "    </tr>\n",
       "    <tr>\n",
       "      <th>1</th>\n",
       "      <td>536365</td>\n",
       "      <td>71053</td>\n",
       "      <td>WHITE METAL LANTERN</td>\n",
       "      <td>6</td>\n",
       "      <td>2010-12-01 08:26:00</td>\n",
       "      <td>3.39</td>\n",
       "      <td>17850.0</td>\n",
       "      <td>United Kingdom</td>\n",
       "    </tr>\n",
       "    <tr>\n",
       "      <th>2</th>\n",
       "      <td>536365</td>\n",
       "      <td>84406B</td>\n",
       "      <td>CREAM CUPID HEARTS COAT HANGER</td>\n",
       "      <td>8</td>\n",
       "      <td>2010-12-01 08:26:00</td>\n",
       "      <td>2.75</td>\n",
       "      <td>17850.0</td>\n",
       "      <td>United Kingdom</td>\n",
       "    </tr>\n",
       "    <tr>\n",
       "      <th>3</th>\n",
       "      <td>536365</td>\n",
       "      <td>84029G</td>\n",
       "      <td>KNITTED UNION FLAG HOT WATER BOTTLE</td>\n",
       "      <td>6</td>\n",
       "      <td>2010-12-01 08:26:00</td>\n",
       "      <td>3.39</td>\n",
       "      <td>17850.0</td>\n",
       "      <td>United Kingdom</td>\n",
       "    </tr>\n",
       "    <tr>\n",
       "      <th>4</th>\n",
       "      <td>536365</td>\n",
       "      <td>84029E</td>\n",
       "      <td>RED WOOLLY HOTTIE WHITE HEART.</td>\n",
       "      <td>6</td>\n",
       "      <td>2010-12-01 08:26:00</td>\n",
       "      <td>3.39</td>\n",
       "      <td>17850.0</td>\n",
       "      <td>United Kingdom</td>\n",
       "    </tr>\n",
       "  </tbody>\n",
       "</table>\n",
       "</div>"
      ],
      "text/plain": [
       "   InvoiceNo StockCode                          Description  Quantity  \\\n",
       "0     536365    85123A   WHITE HANGING HEART T-LIGHT HOLDER         6   \n",
       "1     536365     71053                  WHITE METAL LANTERN         6   \n",
       "2     536365    84406B       CREAM CUPID HEARTS COAT HANGER         8   \n",
       "3     536365    84029G  KNITTED UNION FLAG HOT WATER BOTTLE         6   \n",
       "4     536365    84029E       RED WOOLLY HOTTIE WHITE HEART.         6   \n",
       "\n",
       "           InvoiceDate  UnitPrice  CustomerID         Country  \n",
       "0  2010-12-01 08:26:00       2.55     17850.0  United Kingdom  \n",
       "1  2010-12-01 08:26:00       3.39     17850.0  United Kingdom  \n",
       "2  2010-12-01 08:26:00       2.75     17850.0  United Kingdom  \n",
       "3  2010-12-01 08:26:00       3.39     17850.0  United Kingdom  \n",
       "4  2010-12-01 08:26:00       3.39     17850.0  United Kingdom  "
      ]
     },
     "execution_count": 2,
     "metadata": {},
     "output_type": "execute_result"
    }
   ],
   "source": [
    "df = pd.read_csv('../data/cleaned_data/online_retail_df.csv')\n",
    "df.head(5)"
   ]
  },
  {
   "cell_type": "code",
   "execution_count": 3,
   "id": "84608b4b",
   "metadata": {},
   "outputs": [
    {
     "name": "stdout",
     "output_type": "stream",
     "text": [
      "<class 'pandas.core.frame.DataFrame'>\n",
      "RangeIndex: 396340 entries, 0 to 396339\n",
      "Data columns (total 8 columns):\n",
      " #   Column       Non-Null Count   Dtype  \n",
      "---  ------       --------------   -----  \n",
      " 0   InvoiceNo    396340 non-null  int64  \n",
      " 1   StockCode    396340 non-null  object \n",
      " 2   Description  396340 non-null  object \n",
      " 3   Quantity     396340 non-null  int64  \n",
      " 4   InvoiceDate  396340 non-null  object \n",
      " 5   UnitPrice    396340 non-null  float64\n",
      " 6   CustomerID   396340 non-null  float64\n",
      " 7   Country      396340 non-null  object \n",
      "dtypes: float64(2), int64(2), object(4)\n",
      "memory usage: 24.2+ MB\n"
     ]
    }
   ],
   "source": [
    "df.info()"
   ]
  },
  {
   "cell_type": "code",
   "execution_count": 4,
   "id": "0ca28e1c",
   "metadata": {},
   "outputs": [
    {
     "data": {
      "image/png": "[encoded data removed]",
      "text/plain": [
       "<Figure size 1000x400 with 2 Axes>"
      ]
     },
     "metadata": {},
     "output_type": "display_data"
    }
   ],
   "source": [
    "plt.figure(figsize = (10,4))\n",
    "plt.subplot(1,2,1)\n",
    "sns.boxplot(df['Quantity'],color = 'skyblue')\n",
    "plt.xlabel('Quantity')\n",
    "\n",
    "plt.subplot(1,2,2)\n",
    "sns.boxplot(df['UnitPrice'],color = 'lightgreen')\n",
    "plt.title('UnitPrice')\n",
    "\n",
    "plt.show()"
   ]
  },
  {
   "cell_type": "markdown",
   "id": "432becdf",
   "metadata": {},
   "source": [
    "Geez, that's a lot of outlier. We need to handle them here."
   ]
  },
  {
   "cell_type": "code",
   "execution_count": 13,
   "id": "3e759b37",
   "metadata": {},
   "outputs": [],
   "source": [
    "\n",
    "\n",
    "\n",
    "def clean_online_retail_data(df):\n",
    "    \"\"\"\n",
    "    Clean online retail data for BetaGeo modeling\n",
    "    \"\"\"\n",
    "    print(f\"Original data shape: {df.shape}\")\n",
    "    \n",
    "    # 1. Remove clearly invalid records\n",
    "    df_clean = df.copy()\n",
    "    \n",
    "    # Remove negative quantities and prices\n",
    "    df_clean = df_clean[df_clean['Quantity'] > 0]\n",
    "    df_clean = df_clean[df_clean['UnitPrice'] > 0]\n",
    "    print(f\"After removing negative values: {df_clean.shape}\")\n",
    "    \n",
    "    # 2. Handle extreme outliers using IQR method\n",
    "    def remove_outliers_iqr(data, column, multiplier=3):\n",
    "        Q1 = data[column].quantile(0.25)\n",
    "        Q3 = data[column].quantile(0.75)\n",
    "        IQR = Q3 - Q1\n",
    "        lower_bound = Q1 - multiplier * IQR\n",
    "        upper_bound = Q3 + multiplier * IQR\n",
    "        \n",
    "        print(f\"{column} bounds: {lower_bound:.2f} to {upper_bound:.2f}\")\n",
    "        return data[(data[column] >= lower_bound) & (data[column] <= upper_bound)]\n",
    "    \n",
    "    # Remove quantity outliers\n",
    "    df_clean = remove_outliers_iqr(df_clean, 'Quantity', multiplier=2.5)\n",
    "    print(f\"After removing quantity outliers: {df_clean.shape}\")\n",
    "    \n",
    "    # Remove price outliers\n",
    "    df_clean = remove_outliers_iqr(df_clean, 'UnitPrice', multiplier=2.5)\n",
    "    print(f\"After removing price outliers: {df_clean.shape}\")\n",
    "    \n",
    "    # 3. Remove bulk/wholesale orders (common in retail data)\n",
    "    # These distort individual customer behavior\n",
    "    quantity_95th = df_clean['Quantity'].quantile(0.95)\n",
    "    df_clean = df_clean[df_clean['Quantity'] <= quantity_95th]\n",
    "    print(f\"After removing bulk orders (>95th percentile): {df_clean.shape}\")\n",
    "    \n",
    "    # 4. Calculate total spend per transaction\n",
    "    df_clean['TotalSpend'] = df_clean['Quantity'] * df_clean['UnitPrice']\n",
    "    \n",
    "    # 5. Remove customers with very few transactions (less reliable for modeling)\n",
    "    customer_transaction_counts = df_clean.groupby('CustomerID').size()\n",
    "    valid_customers = customer_transaction_counts[customer_transaction_counts >= 3].index\n",
    "    df_clean = df_clean[df_clean['CustomerID'].isin(valid_customers)]\n",
    "    print(f\"After removing customers with <3 transactions: {df_clean.shape}\")\n",
    "    \n",
    "    # 6. Remove test/employee accounts (common patterns)\n",
    "    # Look for customers with suspicious patterns\n",
    "    customer_stats = df_clean.groupby('CustomerID').agg({\n",
    "        'Quantity': ['mean', 'std', 'count'],\n",
    "        'UnitPrice': ['mean', 'std'],\n",
    "        'TotalSpend': ['mean', 'sum']\n",
    "    }).round(2)\n",
    "    \n",
    "    # Flatten column names\n",
    "    customer_stats.columns = ['_'.join(col).strip() for col in customer_stats.columns]\n",
    "    \n",
    "    # Remove customers with extremely high average quantities (likely test accounts)\n",
    "    high_avg_qty = customer_stats['Quantity_mean'].quantile(0.99)\n",
    "    suspicious_customers = customer_stats[customer_stats['Quantity_mean'] > high_avg_qty].index\n",
    "    df_clean = df_clean[~df_clean['CustomerID'].isin(suspicious_customers)]\n",
    "    print(f\"After removing suspicious accounts: {df_clean.shape}\")\n",
    "    \n",
    "    return df_clean, customer_stats\n",
    "\n",
    "def validate_cleaning(df_original, df_clean):\n",
    "    \"\"\"\n",
    "    Validate the cleaning process\n",
    "    \"\"\"\n",
    "    print(\"\\n=== CLEANING VALIDATION ===\")\n",
    "    \n",
    "    # Compare distributions\n",
    "    fig, axes = plt.subplots(2, 2, figsize=(12, 8))\n",
    "    \n",
    "    # Quantity comparison\n",
    "    axes[0,0].boxplot([df_original['Quantity'], df_clean['Quantity']], \n",
    "                      labels=['Original', 'Cleaned'])\n",
    "    axes[0,0].set_title('Quantity Distribution')\n",
    "    axes[0,0].set_yscale('log')\n",
    "    \n",
    "    # Price comparison\n",
    "    axes[0,1].boxplot([df_original['UnitPrice'], df_clean['UnitPrice']], \n",
    "                      labels=['Original', 'Cleaned'])\n",
    "    axes[0,1].set_title('Unit Price Distribution')\n",
    "    axes[0,1].set_yscale('log')\n",
    "    \n",
    "    # Customer transaction frequency\n",
    "    orig_freq = df_original.groupby('CustomerID').size()\n",
    "    clean_freq = df_clean.groupby('CustomerID').size()\n",
    "    \n",
    "    axes[1,0].hist(orig_freq, bins=50, alpha=0.5, label='Original')\n",
    "    axes[1,0].hist(clean_freq, bins=50, alpha=0.5, label='Cleaned')\n",
    "    axes[1,0].set_title('Customer Transaction Frequency')\n",
    "    axes[1,0].legend()\n",
    "    \n",
    "    # Total spend per transaction\n",
    "    df_original['TotalSpend'] = df_original['Quantity'] * df_original['UnitPrice']\n",
    "    \n",
    "    axes[1,1].hist(np.log10(df_original['TotalSpend'] + 1), bins=50, alpha=0.5, label='Original')\n",
    "    axes[1,1].hist(np.log10(df_clean['TotalSpend'] + 1), bins=50, alpha=0.5, label='Cleaned')\n",
    "    axes[1,1].set_title('Log10(Total Spend per Transaction)')\n",
    "    axes[1,1].legend()\n",
    "    \n",
    "    plt.tight_layout()\n",
    "    plt.show()\n",
    "    \n",
    "    # Print summary statistics\n",
    "    print(f\"Data reduction: {len(df_original)} → {len(df_clean)} rows ({len(df_clean)/len(df_original)*100:.1f}% retained)\")\n",
    "    print(f\"Customer reduction: {df_original['CustomerID'].nunique()} → {df_clean['CustomerID'].nunique()} customers\")\n",
    "    \n",
    "    return True"
   ]
  },
  {
   "cell_type": "code",
   "execution_count": 14,
   "id": "4a52aa47",
   "metadata": {},
   "outputs": [
    {
     "name": "stdout",
     "output_type": "stream",
     "text": [
      "Original data shape: (396340, 9)\n",
      "After removing negative values: (396340, 9)\n",
      "Quantity bounds: -23.00 to 37.00\n",
      "After removing quantity outliers: (376743, 9)\n",
      "UnitPrice bounds: -5.00 to 10.00\n",
      "After removing price outliers: (367267, 9)\n",
      "After removing bulk orders (>95th percentile): (356238, 9)\n",
      "After removing customers with <3 transactions: (356061, 9)\n",
      "After removing suspicious accounts: (355588, 9)\n"
     ]
    }
   ],
   "source": [
    "# Clean the data\n",
    "df_clean, customer_stats = clean_online_retail_data(df)\n"
   ]
  },
  {
   "cell_type": "code",
   "execution_count": 15,
   "id": "a09dc54d",
   "metadata": {},
   "outputs": [
    {
     "name": "stdout",
     "output_type": "stream",
     "text": [
      "\n",
      "=== CLEANING VALIDATION ===\n"
     ]
    },
    {
     "name": "stderr",
     "output_type": "stream",
     "text": [
      "C:\\Users\\HP\\AppData\\Local\\Temp\\ipykernel_17276\\1496648728.py:78: MatplotlibDeprecationWarning: The 'labels' parameter of boxplot() has been renamed 'tick_labels' since Matplotlib 3.9; support for the old name will be dropped in 3.11.\n",
      "  axes[0,0].boxplot([df_original['Quantity'], df_clean['Quantity']],\n",
      "C:\\Users\\HP\\AppData\\Local\\Temp\\ipykernel_17276\\1496648728.py:84: MatplotlibDeprecationWarning: The 'labels' parameter of boxplot() has been renamed 'tick_labels' since Matplotlib 3.9; support for the old name will be dropped in 3.11.\n",
      "  axes[0,1].boxplot([df_original['UnitPrice'], df_clean['UnitPrice']],\n"
     ]
    },
    {
     "data": {
      "image/png": "[encoded data removed]",
      "text/plain": [
       "<Figure size 1200x800 with 4 Axes>"
      ]
     },
     "metadata": {},
     "output_type": "display_data"
    },
    {
     "name": "stdout",
     "output_type": "stream",
     "text": [
      "Data reduction: 396340 → 355588 rows (89.7% retained)\n",
      "Customer reduction: 4334 → 4046 customers\n"
     ]
    },
    {
     "data": {
      "text/plain": [
       "True"
      ]
     },
     "execution_count": 15,
     "metadata": {},
     "output_type": "execute_result"
    }
   ],
   "source": [
    "# Validate cleaning\n",
    "validate_cleaning(df, df_clean)"
   ]
  },
  {
   "cell_type": "code",
   "execution_count": 16,
   "id": "fe5eb648",
   "metadata": {},
   "outputs": [],
   "source": [
    "from datetime import datetime, timedelta\n",
    "\n",
    "def create_retail_rfm(df_clean, observation_period_end=None):\n",
    "    \"\"\"\n",
    "    Create RFM data specifically for online retail BetaGeo modeling\n",
    "    \"\"\"\n",
    "    # Ensure proper date formatting\n",
    "    df_clean['InvoiceDate'] = pd.to_datetime(df_clean['InvoiceDate'])\n",
    "    \n",
    "    # Set observation period end (use last date in data if not specified)\n",
    "    if observation_period_end is None:\n",
    "        observation_period_end = df_clean['InvoiceDate'].max()\n",
    "    else:\n",
    "        observation_period_end = pd.to_datetime(observation_period_end)\n",
    "    \n",
    "    print(f\"Analysis period: {df_clean['InvoiceDate'].min()} to {observation_period_end}\")\n",
    "    \n",
    "    # Group by customer and date to get daily purchase behavior\n",
    "    # This is important for retail where customers might make multiple purchases per day\n",
    "    daily_purchases = df_clean.groupby(['CustomerID', df_clean['InvoiceDate'].dt.date]).agg({\n",
    "        'TotalSpend': 'sum',\n",
    "        'InvoiceNo': 'nunique'  # Number of unique invoices per day\n",
    "    }).reset_index()\n",
    "    \n",
    "    # Calculate RFM metrics\n",
    "    def calculate_customer_rfm(customer_data):\n",
    "        # Sort by date\n",
    "        customer_data = customer_data.sort_values('InvoiceDate')\n",
    "        \n",
    "        # Frequency: Number of purchase days - 1 (as per BetaGeo convention)\n",
    "        frequency = len(customer_data) - 1\n",
    "        \n",
    "        # Recency: Days between first and last purchase\n",
    "        if len(customer_data) > 1:\n",
    "            recency = (customer_data['InvoiceDate'].iloc[-1] - customer_data['InvoiceDate'].iloc[0]).days\n",
    "        else:\n",
    "            recency = 0\n",
    "        \n",
    "        # T: Days between first purchase and end of observation period\n",
    "        T = (observation_period_end.date() - customer_data['InvoiceDate'].iloc[0]).days\n",
    "        \n",
    "        # Additional metrics for validation\n",
    "        total_spend = customer_data['TotalSpend'].sum()\n",
    "        avg_spend = customer_data['TotalSpend'].mean()\n",
    "        first_purchase = customer_data['InvoiceDate'].iloc[0]\n",
    "        last_purchase = customer_data['InvoiceDate'].iloc[-1]\n",
    "        \n",
    "        return pd.Series({\n",
    "            'frequency': frequency,\n",
    "            'recency': recency,\n",
    "            'T': T,\n",
    "            'total_spend': total_spend,\n",
    "            'avg_spend_per_day': avg_spend,\n",
    "            'first_purchase_date': first_purchase,\n",
    "            'last_purchase_date': last_purchase,\n",
    "            'purchase_days': len(customer_data)\n",
    "        })\n",
    "    \n",
    "    # Apply RFM calculation to each customer\n",
    "    rfm_data = daily_purchases.groupby('CustomerID').apply(calculate_customer_rfm).reset_index()\n",
    "    \n",
    "    # Data quality checks for RFM\n",
    "    print(\"\\n=== RFM DATA QUALITY CHECKS ===\")\n",
    "    print(f\"Total customers: {len(rfm_data)}\")\n",
    "    print(f\"Customers with frequency > 0: {(rfm_data['frequency'] > 0).sum()}\")\n",
    "    print(f\"Customers with T > recency: {(rfm_data['T'] >= rfm_data['recency']).sum()}\")\n",
    "    \n",
    "    # Remove customers with invalid data\n",
    "    valid_customers = (\n",
    "        (rfm_data['T'] >= rfm_data['recency']) & \n",
    "        (rfm_data['T'] > 0) &\n",
    "        (rfm_data['recency'] >= 0)\n",
    "    )\n",
    "    \n",
    "    rfm_clean = rfm_data[valid_customers].copy()\n",
    "    print(f\"Valid customers after filtering: {len(rfm_clean)}\")\n",
    "    \n",
    "    # Summary statistics\n",
    "    print(\"\\n=== RFM SUMMARY STATISTICS ===\")\n",
    "    print(rfm_clean[['frequency', 'recency', 'T', 'total_spend']].describe())\n",
    "    \n",
    "    return rfm_clean\n",
    "\n",
    "def validate_rfm_for_betageo(rfm_data):\n",
    "    \"\"\"\n",
    "    Validate RFM data before fitting BetaGeo model\n",
    "    \"\"\"\n",
    "    issues = []\n",
    "    \n",
    "    # Check 1: T >= recency for all customers\n",
    "    if not (rfm_data['T'] >= rfm_data['recency']).all():\n",
    "        issues.append(\"Some customers have T < recency\")\n",
    "    \n",
    "    # Check 2: Reasonable frequency distribution\n",
    "    if rfm_data['frequency'].max() > 365:\n",
    "        issues.append(\"Some customers have unrealistic high frequency (>365 purchases)\")\n",
    "    \n",
    "    # Check 3: Sufficient variation in behavior\n",
    "    if rfm_data['frequency'].std() < 1:\n",
    "        issues.append(\"Very low variation in customer frequency\")\n",
    "    \n",
    "    # Check 4: Reasonable time periods\n",
    "    if rfm_data['T'].max() > 365 * 3:  # More than 3 years\n",
    "        issues.append(\"Very long observation period might affect model stability\")\n",
    "    \n",
    "    # Check 5: Minimum sample size\n",
    "    if len(rfm_data) < 1000:\n",
    "        issues.append(\"Small sample size might cause parameter instability\")\n",
    "    \n",
    "    if issues:\n",
    "        print(\"⚠️  POTENTIAL ISSUES FOUND:\")\n",
    "        for issue in issues:\n",
    "            print(f\"   - {issue}\")\n",
    "    else:\n",
    "        print(\"✅ RFM data looks good for BetaGeo modeling\")\n",
    "    \n",
    "    # Visualize RFM distributions\n",
    "    import matplotlib.pyplot as plt\n",
    "    \n",
    "    fig, axes = plt.subplots(2, 2, figsize=(12, 8))\n",
    "    \n",
    "    # Frequency distribution\n",
    "    axes[0,0].hist(rfm_data['frequency'], bins=50, edgecolor='black')\n",
    "    axes[0,0].set_title('Frequency Distribution')\n",
    "    axes[0,0].set_xlabel('Purchase Frequency')\n",
    "    \n",
    "    # Recency distribution\n",
    "    axes[0,1].hist(rfm_data['recency'], bins=50, edgecolor='black')\n",
    "    axes[0,1].set_title('Recency Distribution')\n",
    "    axes[0,1].set_xlabel('Days Since Last Purchase')\n",
    "    \n",
    "    # T distribution\n",
    "    axes[1,0].hist(rfm_data['T'], bins=50, edgecolor='black')\n",
    "    axes[1,0].set_title('T Distribution')\n",
    "    axes[1,0].set_xlabel('Days Since First Purchase')\n",
    "    \n",
    "    # Frequency vs Recency scatter\n",
    "    axes[1,1].scatter(rfm_data['frequency'], rfm_data['recency'], alpha=0.5)\n",
    "    axes[1,1].set_xlabel('Frequency')\n",
    "    axes[1,1].set_ylabel('Recency')\n",
    "    axes[1,1].set_title('Frequency vs Recency')\n",
    "    \n",
    "    plt.tight_layout()\n",
    "    plt.show()\n",
    "    \n",
    "    return len(issues) == 0\n",
    "\n"
   ]
  },
  {
   "cell_type": "code",
   "execution_count": 17,
   "id": "28fc07f0",
   "metadata": {},
   "outputs": [
    {
     "name": "stdout",
     "output_type": "stream",
     "text": [
      "Analysis period: 2010-12-01 08:26:00 to 2011-12-09 12:50:00\n",
      "\n",
      "=== RFM DATA QUALITY CHECKS ===\n",
      "Total customers: 4046\n",
      "Customers with frequency > 0: 2646\n",
      "Customers with T > recency: 4046\n",
      "Valid customers after filtering: 4045\n",
      "\n",
      "=== RFM SUMMARY STATISTICS ===\n",
      "         frequency      recency            T   total_spend\n",
      "count  4045.000000  4045.000000  4045.000000   4045.000000\n",
      "mean      2.817058   133.371817   223.297651   1173.420859\n",
      "std       5.766445   131.832518   117.451875   2491.992391\n",
      "min       0.000000     0.000000     1.000000     13.300000\n",
      "25%       0.000000     0.000000   114.000000    251.240000\n",
      "50%       1.000000   103.000000   249.000000    554.060000\n",
      "75%       3.000000   254.000000   326.000000   1294.130000\n",
      "max     129.000000   373.000000   373.000000  96295.360000\n"
     ]
    }
   ],
   "source": [
    "# After cleaning your data\n",
    "rfm_data = create_retail_rfm(df_clean)"
   ]
  },
  {
   "cell_type": "code",
   "execution_count": 18,
   "id": "e51addea",
   "metadata": {},
   "outputs": [
    {
     "name": "stdout",
     "output_type": "stream",
     "text": [
      "✅ RFM data looks good for BetaGeo modeling\n"
     ]
    },
    {
     "data": {
      "image/png": "[encoded data removed]",
      "text/plain": [
       "<Figure size 1200x800 with 4 Axes>"
      ]
     },
     "metadata": {},
     "output_type": "display_data"
    }
   ],
   "source": [
    "# Validate before modeling\n",
    "is_valid = validate_rfm_for_betageo(rfm_data)"
   ]
  },
  {
   "cell_type": "code",
   "execution_count": 21,
   "id": "0aecbf8a",
   "metadata": {},
   "outputs": [
    {
     "name": "stdout",
     "output_type": "stream",
     "text": [
      "               coef      se(coef)  lower 95% bound  upper 95% bound\n",
      "r      6.157436e-01  1.570806e-02     5.849558e-01     6.465313e-01\n",
      "alpha  5.188357e+01  1.758032e+00     4.843782e+01     5.532931e+01\n",
      "a      3.688703e-16  3.870339e-11    -7.585828e-11     7.585902e-11\n",
      "b      2.358362e-07  2.474183e-02    -4.849375e-02     4.849422e-02\n"
     ]
    }
   ],
   "source": [
    "if is_valid:\n",
    "    # Proceed with BetaGeo modeling\n",
    "    from lifetimes import BetaGeoFitter\n",
    "    \n",
    "    bgf = BetaGeoFitter(penalizer_coef=0.1)  # Add small penalty for stability\n",
    "    bgf.fit(rfm_data['frequency'], rfm_data['recency'], rfm_data['T'])\n",
    "    print(bgf.summary)"
   ]
  },
  {
   "cell_type": "code",
   "execution_count": 24,
   "id": "9ac98971",
   "metadata": {},
   "outputs": [],
   "source": [
    "from lifetimes import BetaGeoFitter\n",
    "from lifetimes.plotting import plot_probability_alive_matrix, plot_frequency_recency_matrix\n",
    "from lifetimes.utils import calibration_and_holdout_data\n",
    "import matplotlib.pyplot as plt \n",
    "import warnings\n",
    "warnings.filterwarnings('ignore') \n",
    "\n",
    "def fit_retail_betageo(rfm_data, use_penalization=True, penalizer_coef=0.01):\n",
    "    \"\"\"\n",
    "    Fit BetaGeo model optimized for retail data\n",
    "    \"\"\"\n",
    "    print(\"=== FITTING BETAGEO MODEL FOR RETAIL DATA ===\")\n",
    "    \n",
    "    # Try multiple fitting strategies\n",
    "    strategies = [\n",
    "        {\"penalizer_coef\": penalizer_coef, \"name\": \"Penalized\"},\n",
    "        {\"penalizer_coef\": 0.0, \"name\": \"Unpenalized\"},\n",
    "        {\"penalizer_coef\": penalizer_coef * 10, \"name\": \"Heavily Penalized\"}\n",
    "    ]\n",
    "    \n",
    "    best_model = None\n",
    "    best_ll = -np.inf\n",
    "    \n",
    "    for strategy in strategies:\n",
    "        try:\n",
    "            print(f\"\\nTrying {strategy['name']} approach...\")\n",
    "            \n",
    "            bgf = BetaGeoFitter(penalizer_coef=strategy['penalizer_coef'])\n",
    "            bgf.fit(rfm_data['frequency'], rfm_data['recency'], rfm_data['T'], \n",
    "                   verbose=True, tol=1e-6, max_iter=2000)\n",
    "            \n",
    "            # Check if model converged properly\n",
    "            if not np.any(np.isnan(bgf.params_)):\n",
    "                ll = bgf._negative_log_likelihood(bgf.params_,\n",
    "                                                rfm_data['frequency'], \n",
    "                                                rfm_data['recency'], \n",
    "                                                rfm_data['T'])\n",
    "                \n",
    "                print(f\"Log-likelihood: {-ll:.2f}\")\n",
    "                print(f\"Parameters: {dict(bgf.params_)}\")\n",
    "                \n",
    "                # Check parameter bounds (reasonable values for retail)\n",
    "                params_reasonable = (\n",
    "                    0.01 <= bgf.params_['r'] <= 10 and\n",
    "                    0.1 <= bgf.params_['alpha'] <= 1000 and\n",
    "                    0.001 <= bgf.params_['a'] <= 1 and\n",
    "                    0.1 <= bgf.params_['b'] <= 100\n",
    "                )\n",
    "                \n",
    "                if params_reasonable and -ll > best_ll:\n",
    "                    best_model = bgf\n",
    "                    best_ll = -ll\n",
    "                    print(\"✅ Best model so far!\")\n",
    "                else:\n",
    "                    print(\"❌ Parameters out of reasonable bounds\")\n",
    "            else:\n",
    "                print(\"❌ Model failed to converge\")\n",
    "                \n",
    "        except Exception as e:\n",
    "            print(f\"❌ Error fitting {strategy['name']}: {str(e)}\")\n",
    "    \n",
    "    if best_model is None:\n",
    "        print(\"⚠️  All fitting strategies failed. Trying simplified approach...\")\n",
    "        # Last resort: fix some parameters\n",
    "        bgf = BetaGeoFitter()\n",
    "        # Use method of moments for initial estimates\n",
    "        initial_params = estimate_initial_params(rfm_data)\n",
    "        bgf.fit(rfm_data['frequency'], rfm_data['recency'], rfm_data['T'],\n",
    "               initial_params=initial_params)\n",
    "        best_model = bgf\n",
    "    \n",
    "    return best_model\n",
    "\n",
    "def estimate_initial_params(rfm_data):\n",
    "    \"\"\"\n",
    "    Estimate reasonable initial parameters for retail data\n",
    "    \"\"\"\n",
    "    # Based on typical retail customer behavior\n",
    "    mean_freq = rfm_data['frequency'].mean()\n",
    "    mean_recency = rfm_data['recency'].mean()\n",
    "    mean_T = rfm_data['T'].mean()\n",
    "    \n",
    "    # Conservative estimates for retail\n",
    "    r_init = max(0.1, min(2.0, mean_freq / 10))\n",
    "    alpha_init = max(1.0, min(50.0, mean_T / mean_recency if mean_recency > 0 else 10))\n",
    "    a_init = 0.1  # Conservative dropout rate\n",
    "    b_init = max(1.0, min(10.0, mean_T / 100))\n",
    "    \n",
    "    return [r_init, alpha_init, a_init, b_init]\n",
    "\n",
    "def validate_retail_betageo(bgf, rfm_data, holdout_days=30):\n",
    "    \"\"\"\n",
    "    Comprehensive validation for retail BetaGeo model\n",
    "    \"\"\"\n",
    "    print(\"\\n=== MODEL VALIDATION ===\")\n",
    "    \n",
    "    # 1. Parameter Analysis\n",
    "    print(\"1. Parameter Analysis:\")\n",
    "    params = bgf.params_\n",
    "    print(f\"   r (purchase rate heterogeneity): {params['r']:.4f}\")\n",
    "    print(f\"   alpha (purchase rate): {params['alpha']:.4f}\")\n",
    "    print(f\"   a (dropout heterogeneity): {params['a']:.4f}\")\n",
    "    print(f\"   b (dropout rate): {params['b']:.4f}\")\n",
    "    \n",
    "    # Parameter interpretation for retail\n",
    "    avg_purchase_rate = params['r'] / params['alpha']\n",
    "    avg_dropout_prob = params['a'] / (params['a'] + params['b'])\n",
    "    \n",
    "    print(f\"   → Average purchase rate: {avg_purchase_rate:.4f} per period\")\n",
    "    print(f\"   → Average dropout probability: {avg_dropout_prob:.4f}\")\n",
    "    \n",
    "    # 2. Business Logic Checks\n",
    "    print(\"\\n2. Business Logic Validation:\")\n",
    "    \n",
    "    # Check: High frequency customers should be more likely alive\n",
    "    high_freq = rfm_data.nlargest(100, 'frequency')\n",
    "    low_freq = rfm_data.nsmallest(100, 'frequency')\n",
    "    \n",
    "    high_freq_alive = bgf.conditional_probability_alive(\n",
    "        high_freq['frequency'], high_freq['recency'], high_freq['T']\n",
    "    ).mean()\n",
    "    \n",
    "    low_freq_alive = bgf.conditional_probability_alive(\n",
    "        low_freq['frequency'], low_freq['recency'], low_freq['T']\n",
    "    ).mean()\n",
    "    \n",
    "    print(f\"   High frequency customers alive prob: {high_freq_alive:.3f}\")\n",
    "    print(f\"   Low frequency customers alive prob: {low_freq_alive:.3f}\")\n",
    "    print(f\"   ✅ Logic check: {high_freq_alive > low_freq_alive}\")\n",
    "    \n",
    "    # Check: Recent customers should be more likely alive\n",
    "    recent = rfm_data.nlargest(100, 'recency')\n",
    "    old = rfm_data.nsmallest(100, 'recency')\n",
    "    \n",
    "    recent_alive = bgf.conditional_probability_alive(\n",
    "        recent['frequency'], recent['recency'], recent['T']\n",
    "    ).mean()\n",
    "    \n",
    "    old_alive = bgf.conditional_probability_alive(\n",
    "        old['frequency'], old['recency'], old['T']\n",
    "    ).mean()\n",
    "    \n",
    "    print(f\"   Recent customers alive prob: {recent_alive:.3f}\")\n",
    "    print(f\"   Old customers alive prob: {old_alive:.3f}\")\n",
    "    print(f\"   ✅ Recency check: {recent_alive > old_alive}\")\n",
    "    \n",
    "    # 3. Holdout Validation (if enough data)\n",
    "    if rfm_data['T'].min() > holdout_days:\n",
    "        print(f\"\\n3. Holdout Validation ({holdout_days} days):\")\n",
    "        try:\n",
    "            # Create calibration and holdout data\n",
    "            summary_cal_holdout = calibration_and_holdout_data(\n",
    "                rfm_data, 'CustomerID', 'T', \n",
    "                calibration_period_end=holdout_days,\n",
    "                observation_period_end=rfm_data['T'].max()\n",
    "            )\n",
    "            \n",
    "            # Fit on calibration data\n",
    "            bgf_cal = BetaGeoFitter(penalizer_coef=bgf.penalizer_coef)\n",
    "            bgf_cal.fit(summary_cal_holdout['frequency_cal'], \n",
    "                       summary_cal_holdout['recency_cal'], \n",
    "                       summary_cal_holdout['T_cal'])\n",
    "            \n",
    "            # Predict on holdout\n",
    "            predictions = bgf_cal.predict(\n",
    "                holdout_days,\n",
    "                summary_cal_holdout['frequency_cal'],\n",
    "                summary_cal_holdout['recency_cal'],\n",
    "                summary_cal_holdout['T_cal']\n",
    "            )\n",
    "            \n",
    "            # Calculate MAE\n",
    "            mae = np.mean(np.abs(predictions - summary_cal_holdout['frequency_holdout']))\n",
    "            mape = np.mean(np.abs((predictions - summary_cal_holdout['frequency_holdout']) / \n",
    "                                (summary_cal_holdout['frequency_holdout'] + 0.1))) * 100\n",
    "            \n",
    "            print(f\"   Mean Absolute Error: {mae:.3f}\")\n",
    "            print(f\"   Mean Absolute Percentage Error: {mape:.1f}%\")\n",
    "            \n",
    "        except Exception as e:\n",
    "            print(f\"   ❌ Holdout validation failed: {str(e)}\")\n",
    "    \n",
    "    # 4. Visualization\n",
    "    print(\"\\n4. Creating visualizations...\")\n",
    "    \n",
    "    fig, axes = plt.subplots(2, 2, figsize=(15, 10))\n",
    "    \n",
    "    # Plot probability alive matrix\n",
    "    plot_probability_alive_matrix(bgf, ax=axes[0,0])\n",
    "    axes[0,0].set_title('Probability Customer is Alive')\n",
    "    \n",
    "    # Plot frequency/recency matrix\n",
    "    plot_frequency_recency_matrix(bgf, ax=axes[0,1])\n",
    "    axes[0,1].set_title('Expected Purchases')\n",
    "    \n",
    "    # Distribution of predicted vs actual\n",
    "    predicted_purchases = bgf.conditional_expected_number_of_purchases_up_to_time(\n",
    "        30, rfm_data['frequency'], rfm_data['recency'], rfm_data['T']\n",
    "    )\n",
    "    \n",
    "    axes[1,0].hist(predicted_purchases, bins=50, alpha=0.7, label='Predicted (30 days)')\n",
    "    axes[1,0].set_xlabel('Expected Purchases')\n",
    "    axes[1,0].set_ylabel('Number of Customers')\n",
    "    axes[1,0].set_title('Distribution of Predicted Purchases')\n",
    "    axes[1,0].legend()\n",
    "    \n",
    "    # Alive probability distribution\n",
    "    alive_probs = bgf.conditional_probability_alive(\n",
    "        rfm_data['frequency'], rfm_data['recency'], rfm_data['T']\n",
    "    )\n",
    "    \n",
    "    axes[1,1].hist(alive_probs, bins=50, alpha=0.7)\n",
    "    axes[1,1].set_xlabel('Probability Alive')\n",
    "    axes[1,1].set_ylabel('Number of Customers')\n",
    "    axes[1,1].set_title('Distribution of Alive Probabilities')\n",
    "    \n",
    "    plt.tight_layout()\n",
    "    plt.show()\n",
    "    \n",
    "    return True"
   ]
  },
  {
   "cell_type": "code",
   "execution_count": 27,
   "id": "39fe8aef",
   "metadata": {},
   "outputs": [],
   "source": [
    "import pandas as pd\n",
    "import numpy as np\n",
    "from sklearn.model_selection import train_test_split, TimeSeriesSplit\n",
    "from sklearn.preprocessing import StandardScaler, LabelEncoder\n",
    "from sklearn.ensemble import RandomForestRegressor, GradientBoostingRegressor\n",
    "from sklearn.linear_model import Ridge\n",
    "from sklearn.metrics import mean_squared_error, mean_absolute_error, r2_score\n",
    "import optuna\n",
    "import xgboost as xgb\n",
    "import lightgbm as lgb\n",
    "from datetime import datetime, timedelta\n",
    "import warnings\n",
    "warnings.filterwarnings('ignore')\n",
    "\n",
    "class MLCLVPipeline:\n",
    "    def __init__(self):\n",
    "        self.scaler = StandardScaler()\n",
    "        self.label_encoders = {}\n",
    "        self.best_model = None\n",
    "        self.feature_names = None\n",
    "        \n",
    "    def create_features(self, df, observation_period_days=365, prediction_period_days=365):\n",
    "        \"\"\"\n",
    "        Create comprehensive features for CLV prediction\n",
    "        \n",
    "        Expected df columns: customer_id, order_date, order_value, product_category, etc.\n",
    "        \"\"\"\n",
    "        \n",
    "        # Convert dates\n",
    "        df['order_date'] = pd.to_datetime(df['order_date'])\n",
    "        \n",
    "        # Define observation and prediction periods\n",
    "        max_date = df['order_date'].max()\n",
    "        observation_end = max_date - timedelta(days=prediction_period_days)\n",
    "        observation_start = observation_end - timedelta(days=observation_period_days)\n",
    "        \n",
    "        # Filter data for observation period\n",
    "        obs_data = df[\n",
    "            (df['order_date'] >= observation_start) & \n",
    "            (df['order_date'] <= observation_end)\n",
    "        ].copy()\n",
    "        \n",
    "        # Calculate target (future CLV)\n",
    "        future_data = df[\n",
    "            (df['order_date'] > observation_end) & \n",
    "            (df['order_date'] <= max_date)\n",
    "        ]\n",
    "        \n",
    "        target = future_data.groupby('customer_id')['order_value'].sum().reset_index()\n",
    "        target.columns = ['customer_id', 'future_clv']\n",
    "        \n",
    "        # Feature Engineering\n",
    "        features = self._calculate_features(obs_data)\n",
    "        \n",
    "        # Merge features with target\n",
    "        final_df = features.merge(target, on='customer_id', how='left')\n",
    "        final_df['future_clv'] = final_df['future_clv'].fillna(0)\n",
    "        \n",
    "        return final_df\n",
    "    \n",
    "    def _calculate_features(self, df):\n",
    "        \"\"\"Calculate comprehensive customer features\"\"\"\n",
    "        \n",
    "        customer_features = []\n",
    "        \n",
    "        for customer_id, group in df.groupby('customer_id'):\n",
    "            \n",
    "            # Basic transaction features\n",
    "            total_orders = len(group)\n",
    "            total_revenue = group['order_value'].sum()\n",
    "            avg_order_value = group['order_value'].mean()\n",
    "            \n",
    "            # Temporal features\n",
    "            first_order = group['order_date'].min()\n",
    "            last_order = group['order_date'].max()\n",
    "            days_active = (last_order - first_order).days + 1\n",
    "            \n",
    "            # Frequency features\n",
    "            purchase_frequency = total_orders / max(days_active, 1) * 30  # purchases per month\n",
    "            \n",
    "            # Recency features\n",
    "            days_since_last_order = (df['order_date'].max() - last_order).days\n",
    "            \n",
    "            # Monetary features\n",
    "            min_order_value = group['order_value'].min()\n",
    "            max_order_value = group['order_value'].max()\n",
    "            std_order_value = group['order_value'].std() if len(group) > 1 else 0\n",
    "            \n",
    "            # Trend features\n",
    "            if len(group) >= 3:\n",
    "                # Calculate trend in order values\n",
    "                group_sorted = group.sort_values('order_date')\n",
    "                recent_orders = group_sorted.tail(3)['order_value'].mean()\n",
    "                early_orders = group_sorted.head(3)['order_value'].mean()\n",
    "                order_value_trend = (recent_orders - early_orders) / early_orders if early_orders > 0 else 0\n",
    "            else:\n",
    "                order_value_trend = 0\n",
    "            \n",
    "            # Seasonal features\n",
    "            group['month'] = group['order_date'].dt.month\n",
    "            group['day_of_week'] = group['order_date'].dt.dayofweek\n",
    "            most_active_month = group['month'].mode().iloc[0] if len(group['month'].mode()) > 0 else 1\n",
    "            most_active_dow = group['day_of_week'].mode().iloc[0] if len(group['day_of_week'].mode()) > 0 else 0\n",
    "            \n",
    "            # Product diversity features\n",
    "            if 'product_category' in group.columns:\n",
    "                unique_categories = group['product_category'].nunique()\n",
    "                most_frequent_category = group['product_category'].mode().iloc[0] if len(group['product_category'].mode()) > 0 else 'unknown'\n",
    "            else:\n",
    "                unique_categories = 1\n",
    "                most_frequent_category = 'unknown'\n",
    "            \n",
    "            # Time-based features\n",
    "            purchase_intervals = []\n",
    "            if len(group) > 1:\n",
    "                dates_sorted = sorted(group['order_date'])\n",
    "                for i in range(1, len(dates_sorted)):\n",
    "                    interval = (dates_sorted[i] - dates_sorted[i-1]).days\n",
    "                    purchase_intervals.append(interval)\n",
    "                \n",
    "                avg_days_between_purchases = np.mean(purchase_intervals) if purchase_intervals else 0\n",
    "                std_days_between_purchases = np.std(purchase_intervals) if len(purchase_intervals) > 1 else 0\n",
    "            else:\n",
    "                avg_days_between_purchases = 0\n",
    "                std_days_between_purchases = 0\n",
    "            \n",
    "            customer_features.append({\n",
    "                'customer_id': customer_id,\n",
    "                'total_orders': total_orders,\n",
    "                'total_revenue': total_revenue,\n",
    "                'avg_order_value': avg_order_value,\n",
    "                'days_active': days_active,\n",
    "                'purchase_frequency': purchase_frequency,\n",
    "                'days_since_last_order': days_since_last_order,\n",
    "                'min_order_value': min_order_value,\n",
    "                'max_order_value': max_order_value,\n",
    "                'std_order_value': std_order_value,\n",
    "                'order_value_trend': order_value_trend,\n",
    "                'most_active_month': most_active_month,\n",
    "                'most_active_dow': most_active_dow,\n",
    "                'unique_categories': unique_categories,\n",
    "                'most_frequent_category': most_frequent_category,\n",
    "                'avg_days_between_purchases': avg_days_between_purchases,\n",
    "                'std_days_between_purchases': std_days_between_purchases,\n",
    "                'recency_score': 1 / (1 + days_since_last_order / 30),  # Exponential decay\n",
    "                'frequency_score': np.log1p(total_orders),\n",
    "                'monetary_score': np.log1p(total_revenue)\n",
    "            })\n",
    "        \n",
    "        return pd.DataFrame(customer_features)\n",
    "    \n",
    "    def prepare_data(self, df):\n",
    "        \"\"\"Prepare features for ML models\"\"\"\n",
    "        \n",
    "        # Separate features and target\n",
    "        feature_cols = [col for col in df.columns if col not in ['customer_id', 'future_clv']]\n",
    "        X = df[feature_cols].copy()\n",
    "        y = df['future_clv'].copy()\n",
    "        \n",
    "        # Handle categorical variables\n",
    "        categorical_cols = X.select_dtypes(include=['object']).columns\n",
    "        for col in categorical_cols:\n",
    "            if col not in self.label_encoders:\n",
    "                self.label_encoders[col] = LabelEncoder()\n",
    "                X[col] = self.label_encoders[col].fit_transform(X[col].astype(str))\n",
    "            else:\n",
    "                X[col] = self.label_encoders[col].transform(X[col].astype(str))\n",
    "        \n",
    "        # Handle missing values\n",
    "        X = X.fillna(0)\n",
    "        \n",
    "        # Store feature names\n",
    "        self.feature_names = X.columns.tolist()\n",
    "        \n",
    "        return X, y\n",
    "    \n",
    "    def create_splits(self, X, y, test_size=0.2, val_size=0.2):\n",
    "        \"\"\"Create proper train/validation/test splits\"\"\"\n",
    "        \n",
    "        # First split: separate test set\n",
    "        X_temp, X_test, y_temp, y_test = train_test_split(\n",
    "            X, y, test_size=test_size, random_state=42, stratify=None\n",
    "        )\n",
    "        \n",
    "        # Second split: separate train and validation\n",
    "        val_size_adjusted = val_size / (1 - test_size)\n",
    "        X_train, X_val, y_train, y_val = train_test_split(\n",
    "            X_temp, y_temp, test_size=val_size_adjusted, random_state=42\n",
    "        )\n",
    "        \n",
    "        # Scale features\n",
    "        X_train_scaled = self.scaler.fit_transform(X_train)\n",
    "        X_val_scaled = self.scaler.transform(X_val)\n",
    "        X_test_scaled = self.scaler.transform(X_test)\n",
    "        \n",
    "        return (X_train_scaled, X_val_scaled, X_test_scaled, \n",
    "                y_train, y_val, y_test)\n",
    "    \n",
    "    def optuna_objective(self, trial, X_train, X_val, y_train, y_val, model_type='xgboost'):\n",
    "        \"\"\"Optuna objective function for hyperparameter tuning\"\"\"\n",
    "        \n",
    "        if model_type == 'xgboost':\n",
    "            params = {\n",
    "                'objective': 'reg:squarederror',\n",
    "                'eval_metric': 'rmse',\n",
    "                'n_estimators': trial.suggest_int('n_estimators', 100, 1000),\n",
    "                'max_depth': trial.suggest_int('max_depth', 3, 10),\n",
    "                'learning_rate': trial.suggest_float('learning_rate', 0.01, 0.3),\n",
    "                'subsample': trial.suggest_float('subsample', 0.6, 1.0),\n",
    "                'colsample_bytree': trial.suggest_float('colsample_bytree', 0.6, 1.0),\n",
    "                'reg_alpha': trial.suggest_float('reg_alpha', 0, 10),\n",
    "                'reg_lambda': trial.suggest_float('reg_lambda', 0, 10),\n",
    "                'random_state': 42\n",
    "            }\n",
    "            \n",
    "            model = xgb.XGBRegressor(**params)\n",
    "            \n",
    "        elif model_type == 'lightgbm':\n",
    "            params = {\n",
    "                'objective': 'regression',\n",
    "                'metric': 'rmse',\n",
    "                'n_estimators': trial.suggest_int('n_estimators', 100, 1000),\n",
    "                'max_depth': trial.suggest_int('max_depth', 3, 10),\n",
    "                'learning_rate': trial.suggest_float('learning_rate', 0.01, 0.3),\n",
    "                'subsample': trial.suggest_float('subsample', 0.6, 1.0),\n",
    "                'colsample_bytree': trial.suggest_float('colsample_bytree', 0.6, 1.0),\n",
    "                'reg_alpha': trial.suggest_float('reg_alpha', 0, 10),\n",
    "                'reg_lambda': trial.suggest_float('reg_lambda', 0, 10),\n",
    "                'random_state': 42,\n",
    "                'verbosity': -1\n",
    "            }\n",
    "            \n",
    "            model = lgb.LGBMRegressor(**params)\n",
    "            \n",
    "        elif model_type == 'random_forest':\n",
    "            params = {\n",
    "                'n_estimators': trial.suggest_int('n_estimators', 100, 500),\n",
    "                'max_depth': trial.suggest_int('max_depth', 5, 20),\n",
    "                'min_samples_split': trial.suggest_int('min_samples_split', 2, 10),\n",
    "                'min_samples_leaf': trial.suggest_int('min_samples_leaf', 1, 5),\n",
    "                'max_features': trial.suggest_categorical('max_features', ['sqrt', 'log2', None]),\n",
    "                'random_state': 42\n",
    "            }\n",
    "            \n",
    "            model = RandomForestRegressor(**params)\n",
    "        \n",
    "        # Train and evaluate\n",
    "        model.fit(X_train, y_train)\n",
    "        y_pred = model.predict(X_val)\n",
    "        rmse = np.sqrt(mean_squared_error(y_val, y_pred))\n",
    "        \n",
    "        return rmse\n",
    "    \n",
    "    def hyperparameter_tuning(self, X_train, X_val, y_train, y_val, \n",
    "                            model_types=['xgboost', 'lightgbm', 'random_forest'], \n",
    "                            n_trials=100):\n",
    "        \"\"\"Perform hyperparameter tuning using Optuna\"\"\"\n",
    "        \n",
    "        best_models = {}\n",
    "        \n",
    "        for model_type in model_types:\n",
    "            print(f\"Tuning {model_type}...\")\n",
    "            \n",
    "            study = optuna.create_study(direction='minimize')\n",
    "            study.optimize(\n",
    "                lambda trial: self.optuna_objective(trial, X_train, X_val, y_train, y_val, model_type),\n",
    "                n_trials=n_trials,\n",
    "                show_progress_bar=True\n",
    "            )\n",
    "            \n",
    "            # Train best model\n",
    "            best_params = study.best_params\n",
    "            \n",
    "            if model_type == 'xgboost':\n",
    "                best_params.update({\n",
    "                    'objective': 'reg:squarederror',\n",
    "                    'eval_metric': 'rmse',\n",
    "                    'random_state': 42\n",
    "                })\n",
    "                best_model = xgb.XGBRegressor(**best_params)\n",
    "                \n",
    "            elif model_type == 'lightgbm':\n",
    "                best_params.update({\n",
    "                    'objective': 'regression',\n",
    "                    'metric': 'rmse',\n",
    "                    'random_state': 42,\n",
    "                    'verbosity': -1\n",
    "                })\n",
    "                best_model = lgb.LGBMRegressor(**best_params)\n",
    "                \n",
    "            elif model_type == 'random_forest':\n",
    "                best_params.update({'random_state': 42})\n",
    "                best_model = RandomForestRegressor(**best_params)\n",
    "            \n",
    "            best_model.fit(X_train, y_train)\n",
    "            best_models[model_type] = {\n",
    "                'model': best_model,\n",
    "                'params': best_params,\n",
    "                'score': study.best_value\n",
    "            }\n",
    "            \n",
    "            print(f\"Best {model_type} RMSE: {study.best_value:.4f}\")\n",
    "        \n",
    "        # Select overall best model\n",
    "        best_model_name = min(best_models.keys(), key=lambda k: best_models[k]['score'])\n",
    "        self.best_model = best_models[best_model_name]['model']\n",
    "        \n",
    "        print(f\"\\nBest overall model: {best_model_name}\")\n",
    "        return best_models\n",
    "    \n",
    "    def evaluate_model(self, model, X_test, y_test):\n",
    "        \"\"\"Evaluate model performance\"\"\"\n",
    "        \n",
    "        y_pred = model.predict(X_test)\n",
    "        \n",
    "        metrics = {\n",
    "            'RMSE': np.sqrt(mean_squared_error(y_test, y_pred)),\n",
    "            'MAE': mean_absolute_error(y_test, y_pred),\n",
    "            'R²': r2_score(y_test, y_pred),\n",
    "            'MAPE': np.mean(np.abs((y_test - y_pred) / (y_test + 1e-8))) * 100\n",
    "        }\n",
    "        \n",
    "        return metrics, y_pred\n",
    "    \n",
    "    def get_feature_importance(self, model):\n",
    "        \"\"\"Get feature importance\"\"\"\n",
    "        \n",
    "        if hasattr(model, 'feature_importances_'):\n",
    "            importance = model.feature_importances_\n",
    "        elif hasattr(model, 'coef_'):\n",
    "            importance = np.abs(model.coef_)\n",
    "        else:\n",
    "            return None\n",
    "        \n",
    "        feature_importance = pd.DataFrame({\n",
    "            'feature': self.feature_names,\n",
    "            'importance': importance\n",
    "        }).sort_values('importance', ascending=False)\n",
    "        \n",
    "        return feature_importance\n",
    "\n",
    "# Advanced hyperparameter tuning alternatives\n",
    "class AdvancedHyperparameterTuning:\n",
    "    \n",
    "    @staticmethod\n",
    "    def bayesian_optimization_sklearn(X_train, X_val, y_train, y_val):\n",
    "        \"\"\"Using scikit-optimize for Bayesian optimization\"\"\"\n",
    "        from skopt import gp_minimize\n",
    "        from skopt.space import Real, Integer\n",
    "        from skopt.utils import use_named_args\n",
    "        \n",
    "        # Define search space\n",
    "        space = [\n",
    "            Integer(100, 1000, name='n_estimators'),\n",
    "            Integer(3, 10, name='max_depth'),\n",
    "            Real(0.01, 0.3, name='learning_rate'),\n",
    "            Real(0.6, 1.0, name='subsample'),\n",
    "            Real(0.6, 1.0, name='colsample_bytree'),\n",
    "        ]\n",
    "        \n",
    "        @use_named_args(space)\n",
    "        def objective(**params):\n",
    "            model = xgb.XGBRegressor(**params, random_state=42)\n",
    "            model.fit(X_train, y_train)\n",
    "            y_pred = model.predict(X_val)\n",
    "            return np.sqrt(mean_squared_error(y_val, y_pred))\n",
    "        \n",
    "        result = gp_minimize(objective, space, n_calls=50, random_state=42)\n",
    "        return result\n",
    "    \n",
    "    @staticmethod\n",
    "    def hyperband_tuning():\n",
    "        \"\"\"Using Hyperband algorithm (implemented in Optuna)\"\"\"\n",
    "        \n",
    "        def objective(trial):\n",
    "            # Hyperband automatically handles resource allocation\n",
    "            model = xgb.XGBRegressor(\n",
    "                n_estimators=trial.suggest_int('n_estimators', 50, 500),\n",
    "                max_depth=trial.suggest_int('max_depth', 3, 10),\n",
    "                learning_rate=trial.suggest_float('learning_rate', 0.01, 0.3),\n",
    "                random_state=42\n",
    "            )\n",
    "            return 0  # Placeholder\n",
    "        \n",
    "        # Use Hyperband pruner\n",
    "        study = optuna.create_study(\n",
    "            direction='minimize',\n",
    "            pruner=optuna.pruners.HyperbandPruner()\n",
    "        )\n",
    "        \n",
    "        return study\n",
    "\n",
    "# Example usage and demo\n",
    "def demo_ml_clv():\n",
    "    \"\"\"Demonstrate the ML CLV pipeline\"\"\"\n",
    "    \n",
    "    # Generate sample data\n",
    "    np.random.seed(42)\n",
    "    \n",
    "    # Create sample transaction data\n",
    "    customers = [f'customer_{i}' for i in range(1000)]\n",
    "    data = []\n",
    "    \n",
    "    for customer in customers:\n",
    "        # Random customer behavior\n",
    "        n_orders = np.random.poisson(5) + 1\n",
    "        start_date = datetime(2023, 1, 1) + timedelta(days=np.random.randint(0, 365))\n",
    "        \n",
    "        for i in range(n_orders):\n",
    "            order_date = start_date + timedelta(days=np.random.exponential(30) * i)\n",
    "            if order_date <= datetime(2024, 12, 31):\n",
    "                order_value = np.random.lognormal(4, 0.5)  # Log-normal distribution\n",
    "                category = np.random.choice(['Electronics', 'Clothing', 'Books', 'Home'])\n",
    "                \n",
    "                data.append({\n",
    "                    'customer_id': customer,\n",
    "                    'order_date': order_date,\n",
    "                    'order_value': order_value,\n",
    "                    'product_category': category\n",
    "                })\n",
    "    \n",
    "    df = pd.DataFrame(data)\n",
    "    \n",
    "    # Initialize pipeline\n",
    "    pipeline = MLCLVPipeline()\n",
    "    \n",
    "    print(\"Creating features...\")\n",
    "    feature_df = pipeline.create_features(df)\n",
    "    \n",
    "    print(\"Preparing data...\")\n",
    "    X, y = pipeline.prepare_data(feature_df)\n",
    "    \n",
    "    print(\"Creating train/validation/test splits...\")\n",
    "    X_train, X_val, X_test, y_train, y_val, y_test = pipeline.create_splits(X, y)\n",
    "    \n",
    "    print(\"Starting hyperparameter tuning...\")\n",
    "    best_models = pipeline.hyperparameter_tuning(\n",
    "        X_train, X_val, y_train, y_val, \n",
    "        model_types=['xgboost', 'lightgbm'], \n",
    "        n_trials=20  # Reduced for demo\n",
    "    )\n",
    "    \n",
    "    print(\"\\nEvaluating best model on test set...\")\n",
    "    test_metrics, y_pred = pipeline.evaluate_model(pipeline.best_model, X_test, y_test)\n",
    "    \n",
    "    print(\"Test Set Performance:\")\n",
    "    for metric, value in test_metrics.items():\n",
    "        print(f\"{metric}: {value:.4f}\")\n",
    "    \n",
    "    print(\"\\nTop 10 Feature Importances:\")\n",
    "    feature_importance = pipeline.get_feature_importance(pipeline.best_model)\n",
    "    print(feature_importance.head(10))\n",
    "    \n",
    "    return pipeline, best_models, test_metrics\n",
    "\n"
   ]
  },
  {
   "cell_type": "code",
   "execution_count": 28,
   "id": "832fa47c",
   "metadata": {},
   "outputs": [
    {
     "name": "stdout",
     "output_type": "stream",
     "text": [
      "Creating features...\n"
     ]
    },
    {
     "name": "stderr",
     "output_type": "stream",
     "text": [
      "[I 2025-07-01 17:35:35,994] A new study created in memory with name: no-name-5ae9c23e-ffae-43ad-9e3e-aeec31ca8a9e\n"
     ]
    },
    {
     "name": "stdout",
     "output_type": "stream",
     "text": [
      "Preparing data...\n",
      "Creating train/validation/test splits...\n",
      "Starting hyperparameter tuning...\n",
      "Tuning xgboost...\n"
     ]
    },
    {
     "name": "stderr",
     "output_type": "stream",
     "text": [
      "Best trial: 0. Best value: 75.5097:  10%|█         | 2/20 [00:03<00:25,  1.42s/it]"
     ]
    },
    {
     "name": "stdout",
     "output_type": "stream",
     "text": [
      "[I 2025-07-01 17:35:39,415] Trial 0 finished with value: 75.50967681961072 and parameters: {'n_estimators': 592, 'max_depth': 8, 'learning_rate': 0.01947005795341175, 'subsample': 0.9413120678052599, 'colsample_bytree': 0.6890311742518873, 'reg_alpha': 0.6339428679668269, 'reg_lambda': 0.8992190116498477}. Best is trial 0 with value: 75.50967681961072.\n",
      "[I 2025-07-01 17:35:39,619] Trial 1 finished with value: 79.65773821892654 and parameters: {'n_estimators': 131, 'max_depth': 5, 'learning_rate': 0.24534196846672213, 'subsample': 0.7249388551774366, 'colsample_bytree': 0.7940859994830654, 'reg_alpha': 2.9448973512786236, 'reg_lambda': 0.9881467324687299}. Best is trial 0 with value: 75.50967681961072.\n"
     ]
    },
    {
     "name": "stderr",
     "output_type": "stream",
     "text": [
      "Best trial: 0. Best value: 75.5097:  15%|█▌        | 3/20 [00:03<00:17,  1.03s/it]"
     ]
    },
    {
     "name": "stdout",
     "output_type": "stream",
     "text": [
      "[I 2025-07-01 17:35:40,197] Trial 2 finished with value: 80.99031836875962 and parameters: {'n_estimators': 984, 'max_depth': 3, 'learning_rate': 0.04057947402976368, 'subsample': 0.6481525037312532, 'colsample_bytree': 0.7553843068128515, 'reg_alpha': 7.841750956893485, 'reg_lambda': 6.318350384509918}. Best is trial 0 with value: 75.50967681961072.\n"
     ]
    },
    {
     "name": "stderr",
     "output_type": "stream",
     "text": [
      "Best trial: 0. Best value: 75.5097:  20%|██        | 4/20 [00:04<00:15,  1.01it/s]"
     ]
    },
    {
     "name": "stdout",
     "output_type": "stream",
     "text": [
      "[I 2025-07-01 17:35:41,113] Trial 3 finished with value: 81.96685423952717 and parameters: {'n_estimators': 657, 'max_depth': 6, 'learning_rate': 0.2725801211887605, 'subsample': 0.6159141924990632, 'colsample_bytree': 0.8558148614783967, 'reg_alpha': 1.9912009762346117, 'reg_lambda': 4.905402563802319}. Best is trial 0 with value: 75.50967681961072.\n"
     ]
    },
    {
     "name": "stderr",
     "output_type": "stream",
     "text": [
      "Best trial: 0. Best value: 75.5097:  25%|██▌       | 5/20 [00:06<00:17,  1.17s/it]"
     ]
    },
    {
     "name": "stdout",
     "output_type": "stream",
     "text": [
      "[I 2025-07-01 17:35:42,613] Trial 4 finished with value: 80.46018323422751 and parameters: {'n_estimators': 382, 'max_depth': 6, 'learning_rate': 0.04956892443306081, 'subsample': 0.7168427394786434, 'colsample_bytree': 0.9510271347720716, 'reg_alpha': 3.474168104357976, 'reg_lambda': 2.54202141731667}. Best is trial 0 with value: 75.50967681961072.\n"
     ]
    },
    {
     "name": "stderr",
     "output_type": "stream",
     "text": [
      "Best trial: 0. Best value: 75.5097:  30%|███       | 6/20 [00:07<00:14,  1.05s/it]"
     ]
    },
    {
     "name": "stdout",
     "output_type": "stream",
     "text": [
      "[I 2025-07-01 17:35:43,414] Trial 5 finished with value: 81.82507203360535 and parameters: {'n_estimators': 958, 'max_depth': 4, 'learning_rate': 0.18609752140254202, 'subsample': 0.9162941823906681, 'colsample_bytree': 0.829944614472211, 'reg_alpha': 4.851685582084181, 'reg_lambda': 5.543497780653928}. Best is trial 0 with value: 75.50967681961072.\n"
     ]
    },
    {
     "name": "stderr",
     "output_type": "stream",
     "text": [
      "Best trial: 0. Best value: 75.5097:  35%|███▌      | 7/20 [00:08<00:15,  1.21s/it]"
     ]
    },
    {
     "name": "stdout",
     "output_type": "stream",
     "text": [
      "[I 2025-07-01 17:35:44,937] Trial 6 finished with value: 79.64565004030497 and parameters: {'n_estimators': 512, 'max_depth': 8, 'learning_rate': 0.14398366322188508, 'subsample': 0.9196842970340353, 'colsample_bytree': 0.6000976967941504, 'reg_alpha': 7.038803256684573, 'reg_lambda': 6.677844186684643}. Best is trial 0 with value: 75.50967681961072.\n"
     ]
    },
    {
     "name": "stderr",
     "output_type": "stream",
     "text": [
      "Best trial: 0. Best value: 75.5097:  40%|████      | 8/20 [00:11<00:22,  1.84s/it]"
     ]
    },
    {
     "name": "stdout",
     "output_type": "stream",
     "text": [
      "[I 2025-07-01 17:35:48,141] Trial 7 finished with value: 77.47501420116758 and parameters: {'n_estimators': 710, 'max_depth': 8, 'learning_rate': 0.018894192575569346, 'subsample': 0.820842854289466, 'colsample_bytree': 0.7908216992146362, 'reg_alpha': 4.136524702080425, 'reg_lambda': 3.7312790715229314}. Best is trial 0 with value: 75.50967681961072.\n"
     ]
    },
    {
     "name": "stderr",
     "output_type": "stream",
     "text": [
      "Best trial: 0. Best value: 75.5097:  45%|████▌     | 9/20 [00:12<00:17,  1.56s/it]"
     ]
    },
    {
     "name": "stdout",
     "output_type": "stream",
     "text": [
      "[I 2025-07-01 17:35:49,085] Trial 8 finished with value: 87.75195033868206 and parameters: {'n_estimators': 905, 'max_depth': 4, 'learning_rate': 0.17662488121802025, 'subsample': 0.8355588132596277, 'colsample_bytree': 0.8543467424146091, 'reg_alpha': 4.29300176265847, 'reg_lambda': 9.206348298200526}. Best is trial 0 with value: 75.50967681961072.\n"
     ]
    },
    {
     "name": "stderr",
     "output_type": "stream",
     "text": [
      "Best trial: 0. Best value: 75.5097:  50%|█████     | 10/20 [00:13<00:12,  1.29s/it]"
     ]
    },
    {
     "name": "stdout",
     "output_type": "stream",
     "text": [
      "[I 2025-07-01 17:35:49,781] Trial 9 finished with value: 80.25210012429105 and parameters: {'n_estimators': 340, 'max_depth': 8, 'learning_rate': 0.15574822612300365, 'subsample': 0.9489339724069362, 'colsample_bytree': 0.6615336180664438, 'reg_alpha': 6.182904026191446, 'reg_lambda': 0.03255867532486634}. Best is trial 0 with value: 75.50967681961072.\n"
     ]
    },
    {
     "name": "stderr",
     "output_type": "stream",
     "text": [
      "Best trial: 0. Best value: 75.5097:  55%|█████▌    | 11/20 [00:15<00:13,  1.52s/it]"
     ]
    },
    {
     "name": "stdout",
     "output_type": "stream",
     "text": [
      "[I 2025-07-01 17:35:51,809] Trial 10 finished with value: 77.16732177247462 and parameters: {'n_estimators': 687, 'max_depth': 10, 'learning_rate': 0.08998162013027027, 'subsample': 0.9982222469085074, 'colsample_bytree': 0.7071395411540057, 'reg_alpha': 9.995010523264343, 'reg_lambda': 2.3200813663999913}. Best is trial 0 with value: 75.50967681961072.\n"
     ]
    },
    {
     "name": "stderr",
     "output_type": "stream",
     "text": [
      "Best trial: 0. Best value: 75.5097:  60%|██████    | 12/20 [00:17<00:13,  1.70s/it]"
     ]
    },
    {
     "name": "stdout",
     "output_type": "stream",
     "text": [
      "[I 2025-07-01 17:35:53,938] Trial 11 finished with value: 77.95332739694723 and parameters: {'n_estimators': 749, 'max_depth': 10, 'learning_rate': 0.09642983000559785, 'subsample': 0.9775708578857457, 'colsample_bytree': 0.701144896410682, 'reg_alpha': 9.875556923214155, 'reg_lambda': 1.9048541500260154}. Best is trial 0 with value: 75.50967681961072.\n"
     ]
    },
    {
     "name": "stderr",
     "output_type": "stream",
     "text": [
      "Best trial: 0. Best value: 75.5097:  65%|██████▌   | 13/20 [00:19<00:13,  1.86s/it]"
     ]
    },
    {
     "name": "stdout",
     "output_type": "stream",
     "text": [
      "[I 2025-07-01 17:35:56,158] Trial 12 finished with value: 76.78315400072348 and parameters: {'n_estimators': 517, 'max_depth': 10, 'learning_rate': 0.09075966309503565, 'subsample': 0.9962018914811507, 'colsample_bytree': 0.7020353615648627, 'reg_alpha': 0.6437907712058418, 'reg_lambda': 3.098450966004073}. Best is trial 0 with value: 75.50967681961072.\n"
     ]
    },
    {
     "name": "stderr",
     "output_type": "stream",
     "text": [
      "Best trial: 0. Best value: 75.5097:  70%|███████   | 14/20 [00:22<00:12,  2.06s/it]"
     ]
    },
    {
     "name": "stdout",
     "output_type": "stream",
     "text": [
      "[I 2025-07-01 17:35:58,684] Trial 13 finished with value: 76.29319734105655 and parameters: {'n_estimators': 475, 'max_depth': 9, 'learning_rate': 0.08726225303212344, 'subsample': 0.8779608446980981, 'colsample_bytree': 0.6192775512416797, 'reg_alpha': 0.059334450276252504, 'reg_lambda': 3.7709618194080874}. Best is trial 0 with value: 75.50967681961072.\n"
     ]
    },
    {
     "name": "stderr",
     "output_type": "stream",
     "text": [
      "Best trial: 0. Best value: 75.5097:  75%|███████▌  | 15/20 [00:24<00:10,  2.17s/it]"
     ]
    },
    {
     "name": "stdout",
     "output_type": "stream",
     "text": [
      "[I 2025-07-01 17:36:01,105] Trial 14 finished with value: 76.80068279581242 and parameters: {'n_estimators': 329, 'max_depth': 9, 'learning_rate': 0.05932013902116339, 'subsample': 0.8647014064298414, 'colsample_bytree': 0.6202563540892047, 'reg_alpha': 0.02587338929151628, 'reg_lambda': 4.203059718477528}. Best is trial 0 with value: 75.50967681961072.\n"
     ]
    },
    {
     "name": "stderr",
     "output_type": "stream",
     "text": [
      "Best trial: 15. Best value: 75.4732:  80%|████████  | 16/20 [00:26<00:07,  1.95s/it]"
     ]
    },
    {
     "name": "stdout",
     "output_type": "stream",
     "text": [
      "[I 2025-07-01 17:36:02,554] Trial 15 finished with value: 75.47315865235797 and parameters: {'n_estimators': 441, 'max_depth': 7, 'learning_rate': 0.013507375181297743, 'subsample': 0.8639041279288194, 'colsample_bytree': 0.658553640251239, 'reg_alpha': 1.560635694752937, 'reg_lambda': 7.643146462888401}. Best is trial 15 with value: 75.47315865235797.\n"
     ]
    },
    {
     "name": "stderr",
     "output_type": "stream",
     "text": [
      "Best trial: 16. Best value: 74.6092:  85%|████████▌ | 17/20 [00:27<00:05,  1.75s/it]"
     ]
    },
    {
     "name": "stdout",
     "output_type": "stream",
     "text": [
      "[I 2025-07-01 17:36:03,834] Trial 16 finished with value: 74.60919888113885 and parameters: {'n_estimators': 209, 'max_depth': 7, 'learning_rate': 0.0175527198488737, 'subsample': 0.7910723244506445, 'colsample_bytree': 0.7385303240617271, 'reg_alpha': 2.0171681428269572, 'reg_lambda': 8.529571919730499}. Best is trial 16 with value: 74.60919888113885.\n"
     ]
    },
    {
     "name": "stderr",
     "output_type": "stream",
     "text": [
      "Best trial: 16. Best value: 74.6092:  90%|█████████ | 18/20 [00:28<00:02,  1.40s/it]"
     ]
    },
    {
     "name": "stdout",
     "output_type": "stream",
     "text": [
      "[I 2025-07-01 17:36:04,418] Trial 17 finished with value: 80.23506031615105 and parameters: {'n_estimators': 151, 'max_depth': 7, 'learning_rate': 0.12495648471323076, 'subsample': 0.7706230903900747, 'colsample_bytree': 0.7511980149822439, 'reg_alpha': 2.07195355148479, 'reg_lambda': 8.860883430794352}. Best is trial 16 with value: 74.60919888113885.\n"
     ]
    },
    {
     "name": "stderr",
     "output_type": "stream",
     "text": [
      "Best trial: 18. Best value: 74.475:  95%|█████████▌| 19/20 [00:28<00:01,  1.22s/it] "
     ]
    },
    {
     "name": "stdout",
     "output_type": "stream",
     "text": [
      "[I 2025-07-01 17:36:05,213] Trial 18 finished with value: 74.47503365978002 and parameters: {'n_estimators': 237, 'max_depth': 7, 'learning_rate': 0.01219913043858941, 'subsample': 0.7653751789099387, 'colsample_bytree': 0.9430745821813104, 'reg_alpha': 2.0120162058672983, 'reg_lambda': 7.939914582467443}. Best is trial 18 with value: 74.47503365978002.\n"
     ]
    },
    {
     "name": "stderr",
     "output_type": "stream",
     "text": [
      "Best trial: 18. Best value: 74.475: 100%|██████████| 20/20 [00:29<00:00,  1.49s/it]\n"
     ]
    },
    {
     "name": "stdout",
     "output_type": "stream",
     "text": [
      "[I 2025-07-01 17:36:06,011] Trial 19 finished with value: 83.30650320473832 and parameters: {'n_estimators': 248, 'max_depth': 5, 'learning_rate': 0.20851851571929175, 'subsample': 0.7392052357781193, 'colsample_bytree': 0.9923541168695802, 'reg_alpha': 2.9052885886884767, 'reg_lambda': 9.829266350544872}. Best is trial 18 with value: 74.47503365978002.\n"
     ]
    },
    {
     "name": "stderr",
     "output_type": "stream",
     "text": [
      "[I 2025-07-01 17:36:07,784] A new study created in memory with name: no-name-e76b1cf6-4d2b-4bac-8b93-c0ff48c7a735\n"
     ]
    },
    {
     "name": "stdout",
     "output_type": "stream",
     "text": [
      "Best xgboost RMSE: 74.4750\n",
      "Tuning lightgbm...\n"
     ]
    },
    {
     "name": "stderr",
     "output_type": "stream",
     "text": [
      "Best trial: 0. Best value: 84.859:   5%|▌         | 1/20 [00:24<07:39, 24.16s/it]"
     ]
    },
    {
     "name": "stdout",
     "output_type": "stream",
     "text": [
      "[I 2025-07-01 17:36:31,938] Trial 0 finished with value: 84.85897492257567 and parameters: {'n_estimators': 391, 'max_depth': 7, 'learning_rate': 0.24337104496692852, 'subsample': 0.6970397710841447, 'colsample_bytree': 0.8296757505062499, 'reg_alpha': 3.9828037199963906, 'reg_lambda': 7.374971885505303}. Best is trial 0 with value: 84.85897492257567.\n"
     ]
    },
    {
     "name": "stderr",
     "output_type": "stream",
     "text": [
      "Best trial: 2. Best value: 69.5439:  20%|██        | 4/20 [00:24<01:01,  3.84s/it]"
     ]
    },
    {
     "name": "stdout",
     "output_type": "stream",
     "text": [
      "[I 2025-07-01 17:36:32,285] Trial 1 finished with value: 81.53974322568614 and parameters: {'n_estimators': 870, 'max_depth': 7, 'learning_rate': 0.025760607793517395, 'subsample': 0.7215536727187634, 'colsample_bytree': 0.959094978641337, 'reg_alpha': 2.436609008597462, 'reg_lambda': 3.8021955235456484}. Best is trial 1 with value: 81.53974322568614.\n",
      "[I 2025-07-01 17:36:32,360] Trial 2 finished with value: 69.54386306831394 and parameters: {'n_estimators': 234, 'max_depth': 4, 'learning_rate': 0.01891551461902212, 'subsample': 0.7614709031680702, 'colsample_bytree': 0.7470142820490537, 'reg_alpha': 6.38114685926544, 'reg_lambda': 8.8696085254151}. Best is trial 2 with value: 69.54386306831394.\n",
      "[I 2025-07-01 17:36:32,455] Trial 3 finished with value: 88.16847250397221 and parameters: {'n_estimators': 335, 'max_depth': 5, 'learning_rate': 0.24302590172106084, 'subsample': 0.7899761882959616, 'colsample_bytree': 0.7893662845643232, 'reg_alpha': 0.3224089189922985, 'reg_lambda': 5.624915556946962}. Best is trial 2 with value: 69.54386306831394.\n"
     ]
    },
    {
     "name": "stderr",
     "output_type": "stream",
     "text": [
      "Best trial: 2. Best value: 69.5439:  25%|██▌       | 5/20 [00:24<00:40,  2.71s/it]"
     ]
    },
    {
     "name": "stdout",
     "output_type": "stream",
     "text": [
      "[I 2025-07-01 17:36:32,657] Trial 4 finished with value: 87.21221029632696 and parameters: {'n_estimators': 473, 'max_depth': 6, 'learning_rate': 0.16444990508661456, 'subsample': 0.6988465448421083, 'colsample_bytree': 0.9833346135098242, 'reg_alpha': 5.1627997592131045, 'reg_lambda': 0.991340651883833}. Best is trial 2 with value: 69.54386306831394.\n"
     ]
    },
    {
     "name": "stderr",
     "output_type": "stream",
     "text": [
      "Best trial: 2. Best value: 69.5439:  30%|███       | 6/20 [00:25<00:28,  2.05s/it]"
     ]
    },
    {
     "name": "stdout",
     "output_type": "stream",
     "text": [
      "[I 2025-07-01 17:36:33,192] Trial 5 finished with value: 83.85260610527658 and parameters: {'n_estimators': 968, 'max_depth': 10, 'learning_rate': 0.12591935098180101, 'subsample': 0.834204772613896, 'colsample_bytree': 0.9404373624631354, 'reg_alpha': 9.80895935033205, 'reg_lambda': 8.081570046111189}. Best is trial 2 with value: 69.54386306831394.\n"
     ]
    },
    {
     "name": "stderr",
     "output_type": "stream",
     "text": [
      "Best trial: 2. Best value: 69.5439:  35%|███▌      | 7/20 [00:25<00:19,  1.52s/it]"
     ]
    },
    {
     "name": "stdout",
     "output_type": "stream",
     "text": [
      "[I 2025-07-01 17:36:33,510] Trial 6 finished with value: 82.11866000141607 and parameters: {'n_estimators': 502, 'max_depth': 7, 'learning_rate': 0.05693600634482566, 'subsample': 0.8915208863059967, 'colsample_bytree': 0.7703577261894217, 'reg_alpha': 9.679215181757195, 'reg_lambda': 9.112027678699047}. Best is trial 2 with value: 69.54386306831394.\n",
      "[I 2025-07-01 17:36:33,577] Trial 7 finished with value: 84.75314307017223 and parameters: {'n_estimators': 106, 'max_depth': 8, 'learning_rate': 0.2137569964622304, 'subsample': 0.6232350115541202, 'colsample_bytree': 0.8477492023659303, 'reg_alpha': 5.4372130258649465, 'reg_lambda': 3.028210676280634}. Best is trial 2 with value: 69.54386306831394.\n"
     ]
    },
    {
     "name": "stderr",
     "output_type": "stream",
     "text": [
      "Best trial: 2. Best value: 69.5439:  45%|████▌     | 9/20 [00:26<00:09,  1.13it/s]"
     ]
    },
    {
     "name": "stdout",
     "output_type": "stream",
     "text": [
      "[I 2025-07-01 17:36:33,815] Trial 8 finished with value: 85.49979816011904 and parameters: {'n_estimators': 531, 'max_depth': 8, 'learning_rate': 0.11440588945692705, 'subsample': 0.6388560271213828, 'colsample_bytree': 0.9259164042812551, 'reg_alpha': 2.729084362314227, 'reg_lambda': 3.3620868252062355}. Best is trial 2 with value: 69.54386306831394.\n"
     ]
    },
    {
     "name": "stderr",
     "output_type": "stream",
     "text": [
      "Best trial: 2. Best value: 69.5439:  50%|█████     | 10/20 [00:26<00:07,  1.40it/s]"
     ]
    },
    {
     "name": "stdout",
     "output_type": "stream",
     "text": [
      "[I 2025-07-01 17:36:34,027] Trial 9 finished with value: 84.04842128128666 and parameters: {'n_estimators': 269, 'max_depth': 7, 'learning_rate': 0.11478119566506112, 'subsample': 0.9739304118032, 'colsample_bytree': 0.9242574113544371, 'reg_alpha': 6.406547384309791, 'reg_lambda': 4.650121016682084}. Best is trial 2 with value: 69.54386306831394.\n"
     ]
    },
    {
     "name": "stderr",
     "output_type": "stream",
     "text": [
      "Best trial: 2. Best value: 69.5439:  55%|█████▌    | 11/20 [00:26<00:05,  1.60it/s]"
     ]
    },
    {
     "name": "stdout",
     "output_type": "stream",
     "text": [
      "[I 2025-07-01 17:36:34,391] Trial 10 finished with value: 95.03321605884065 and parameters: {'n_estimators': 749, 'max_depth': 3, 'learning_rate': 0.2961643273743538, 'subsample': 0.7904420173940144, 'colsample_bytree': 0.6514687892606899, 'reg_alpha': 7.630789353587488, 'reg_lambda': 9.787069605317516}. Best is trial 2 with value: 69.54386306831394.\n"
     ]
    },
    {
     "name": "stderr",
     "output_type": "stream",
     "text": [
      "Best trial: 2. Best value: 69.5439:  60%|██████    | 12/20 [00:26<00:04,  1.81it/s]"
     ]
    },
    {
     "name": "stdout",
     "output_type": "stream",
     "text": [
      "[I 2025-07-01 17:36:34,737] Trial 11 finished with value: 76.51397842837534 and parameters: {'n_estimators': 741, 'max_depth': 3, 'learning_rate': 0.028316990751809018, 'subsample': 0.7169972413794027, 'colsample_bytree': 0.6942059371165537, 'reg_alpha': 1.808248297401662, 'reg_lambda': 6.405150206408773}. Best is trial 2 with value: 69.54386306831394.\n"
     ]
    },
    {
     "name": "stderr",
     "output_type": "stream",
     "text": [
      "Best trial: 2. Best value: 69.5439:  65%|██████▌   | 13/20 [00:27<00:03,  1.96it/s]"
     ]
    },
    {
     "name": "stdout",
     "output_type": "stream",
     "text": [
      "[I 2025-07-01 17:36:35,148] Trial 12 finished with value: 71.90494140757018 and parameters: {'n_estimators': 704, 'max_depth': 3, 'learning_rate': 0.01226031009741227, 'subsample': 0.7432590637177443, 'colsample_bytree': 0.6725122605416829, 'reg_alpha': 0.14979577556926227, 'reg_lambda': 6.483404604529586}. Best is trial 2 with value: 69.54386306831394.\n"
     ]
    },
    {
     "name": "stderr",
     "output_type": "stream",
     "text": [
      "Best trial: 2. Best value: 69.5439:  80%|████████  | 16/20 [00:27<00:01,  3.59it/s]"
     ]
    },
    {
     "name": "stdout",
     "output_type": "stream",
     "text": [
      "[I 2025-07-01 17:36:35,429] Trial 13 finished with value: 82.45609734423212 and parameters: {'n_estimators': 685, 'max_depth': 4, 'learning_rate': 0.0683815116855265, 'subsample': 0.8613285667333229, 'colsample_bytree': 0.6052911617695601, 'reg_alpha': 7.2045549292871005, 'reg_lambda': 7.77002093025467}. Best is trial 2 with value: 69.54386306831394.\n",
      "[I 2025-07-01 17:36:35,501] Trial 14 finished with value: 69.96472523070098 and parameters: {'n_estimators': 123, 'max_depth': 4, 'learning_rate': 0.010894487502960617, 'subsample': 0.763230305356822, 'colsample_bytree': 0.7220123551176472, 'reg_alpha': 0.21897733247739914, 'reg_lambda': 6.659916517625901}. Best is trial 2 with value: 69.54386306831394.\n",
      "[I 2025-07-01 17:36:35,589] Trial 15 finished with value: 72.56650323416599 and parameters: {'n_estimators': 104, 'max_depth': 4, 'learning_rate': 0.06823465742817277, 'subsample': 0.8991522656244758, 'colsample_bytree': 0.7289651485975001, 'reg_alpha': 3.7021985278777674, 'reg_lambda': 9.168031384822504}. Best is trial 2 with value: 69.54386306831394.\n"
     ]
    },
    {
     "name": "stderr",
     "output_type": "stream",
     "text": [
      "Best trial: 2. Best value: 69.5439:  90%|█████████ | 18/20 [00:28<00:00,  4.61it/s]"
     ]
    },
    {
     "name": "stdout",
     "output_type": "stream",
     "text": [
      "[I 2025-07-01 17:36:35,715] Trial 16 finished with value: 78.10430524438391 and parameters: {'n_estimators': 239, 'max_depth': 5, 'learning_rate': 0.08729632214018722, 'subsample': 0.7735641535632275, 'colsample_bytree': 0.7346641074003823, 'reg_alpha': 8.10566660603249, 'reg_lambda': 7.9430122461441846}. Best is trial 2 with value: 69.54386306831394.\n",
      "[I 2025-07-01 17:36:35,859] Trial 17 finished with value: 84.38487954058496 and parameters: {'n_estimators': 213, 'max_depth': 5, 'learning_rate': 0.14913732949808442, 'subsample': 0.6641517669830148, 'colsample_bytree': 0.861312320935429, 'reg_alpha': 5.951591384442986, 'reg_lambda': 1.7794763655241068}. Best is trial 2 with value: 69.54386306831394.\n"
     ]
    },
    {
     "name": "stderr",
     "output_type": "stream",
     "text": [
      "Best trial: 2. Best value: 69.5439: 100%|██████████| 20/20 [00:28<00:00,  5.48it/s]"
     ]
    },
    {
     "name": "stdout",
     "output_type": "stream",
     "text": [
      "[I 2025-07-01 17:36:35,964] Trial 18 finished with value: 73.40463299655973 and parameters: {'n_estimators': 187, 'max_depth': 4, 'learning_rate': 0.04662871610109256, 'subsample': 0.8272680582276064, 'colsample_bytree': 0.7412236399045771, 'reg_alpha': 4.26843855002894, 'reg_lambda': 5.180168586399951}. Best is trial 2 with value: 69.54386306831394.\n",
      "[I 2025-07-01 17:36:36,135] Trial 19 finished with value: 86.28086919078736 and parameters: {'n_estimators': 318, 'max_depth': 6, 'learning_rate': 0.17368054789577558, 'subsample': 0.7593864992445375, 'colsample_bytree': 0.6125805846881075, 'reg_alpha': 1.1980695049651526, 'reg_lambda': 6.905106508033932}. Best is trial 2 with value: 69.54386306831394.\n"
     ]
    },
    {
     "name": "stderr",
     "output_type": "stream",
     "text": [
      "Best trial: 2. Best value: 69.5439: 100%|██████████| 20/20 [00:28<00:00,  1.42s/it]"
     ]
    },
    {
     "name": "stdout",
     "output_type": "stream",
     "text": [
      "Best lightgbm RMSE: 69.5439\n",
      "\n",
      "Best overall model: lightgbm\n",
      "\n",
      "Evaluating best model on test set...\n",
      "Test Set Performance:\n",
      "RMSE: 82.2886\n",
      "MAE: 58.6576\n",
      "R²: 0.3468\n",
      "MAPE: 185553150845.0598\n",
      "\n",
      "Top 10 Feature Importances:\n",
      "                       feature  importance\n",
      "5        days_since_last_order         200\n",
      "1                total_revenue         188\n",
      "10           most_active_month         172\n",
      "14  avg_days_between_purchases         169\n",
      "6              min_order_value         169\n",
      "3                  days_active         140\n",
      "4           purchase_frequency         135\n",
      "2              avg_order_value         114\n",
      "8              std_order_value          97\n",
      "16               recency_score          92\n"
     ]
    },
    {
     "name": "stderr",
     "output_type": "stream",
     "text": [
      "\n"
     ]
    }
   ],
   "source": [
    "pipeline, models, metrics = demo_ml_clv()"
   ]
  },
  {
   "cell_type": "code",
   "execution_count": 25,
   "id": "f06056cd",
   "metadata": {},
   "outputs": [
    {
     "name": "stdout",
     "output_type": "stream",
     "text": [
      "=== FITTING BETAGEO MODEL FOR RETAIL DATA ===\n",
      "\n",
      "Trying Penalized approach...\n",
      "         Current function value: -2.534569\n",
      "         Iterations: 32\n",
      "         Function evaluations: 146\n",
      "         Gradient evaluations: 135\n",
      "  message: Desired error not necessarily achieved due to precision loss.\n",
      "  success: False\n",
      "   status: 2\n",
      "      fun: -2.5345691677799036\n",
      "        x: [-1.882e-01 -1.673e+00 -4.504e+01 -3.172e+01]\n",
      "      nit: 32\n",
      "      jac: [ 8.422e-06 -1.301e-05  8.214e-08 -8.842e-08]\n",
      " hess_inv: [[ 2.303e+00  2.251e+00 -5.451e+02 -4.083e+02]\n",
      "            [ 2.251e+00  3.150e+00 -2.436e+01 -2.231e+01]\n",
      "            [-5.451e+02 -2.436e+01  1.255e+08  9.327e+07]\n",
      "            [-4.083e+02 -2.231e+01  9.327e+07  6.929e+07]]\n",
      "     nfev: 146\n",
      "     njev: 135\n",
      "❌ Error fitting Penalized: \n",
      "The model did not converge. Try adding a larger penalizer to see if that helps convergence.\n",
      "\n",
      "\n",
      "Trying Unpenalized approach...\n",
      "Optimization terminated successfully.\n",
      "         Current function value: -2.542265\n",
      "         Iterations: 38\n",
      "         Function evaluations: 39\n",
      "         Gradient evaluations: 39\n",
      "❌ Error fitting Unpenalized: BetaGeoFitter._negative_log_likelihood() missing 2 required positional arguments: 'weights' and 'penalizer_coef'\n",
      "\n",
      "Trying Heavily Penalized approach...\n",
      "Optimization terminated successfully.\n",
      "         Current function value: -2.487982\n",
      "         Iterations: 34\n",
      "         Function evaluations: 35\n",
      "         Gradient evaluations: 35\n",
      "❌ Error fitting Heavily Penalized: BetaGeoFitter._negative_log_likelihood() missing 2 required positional arguments: 'weights' and 'penalizer_coef'\n",
      "⚠️  All fitting strategies failed. Trying simplified approach...\n",
      "  message: Desired error not necessarily achieved due to precision loss.\n",
      "  success: False\n",
      "   status: 2\n",
      "      fun: -2.5422646992009477\n",
      "        x: [-1.217e-01 -1.606e+00 -1.160e+01  1.152e+01]\n",
      "      nit: 41\n",
      "      jac: [-7.328e-07  1.428e-06  3.021e-11  0.000e+00]\n",
      " hess_inv: [[ 3.229e+00  2.479e+00  7.700e-02  1.032e-05]\n",
      "            [ 2.479e+00  2.698e+00  8.385e-02  1.938e-05]\n",
      "            [ 7.700e-02  8.385e-02  7.982e+00 -4.314e+00]\n",
      "            [ 1.032e-05  1.938e-05 -4.314e+00  3.442e+00]]\n",
      "     nfev: 85\n",
      "     njev: 74\n"
     ]
    },
    {
     "ename": "ConvergenceError",
     "evalue": "\nThe model did not converge. Try adding a larger penalizer to see if that helps convergence.\n",
     "output_type": "error",
     "traceback": [
      "\u001b[1;31m---------------------------------------------------------------------------\u001b[0m",
      "\u001b[1;31mConvergenceError\u001b[0m                          Traceback (most recent call last)",
      "Cell \u001b[1;32mIn[25], line 3\u001b[0m\n\u001b[0;32m      1\u001b[0m \u001b[38;5;66;03m# 4. Fit BetaGeo model\u001b[39;00m\n\u001b[0;32m      2\u001b[0m \u001b[38;5;28;01mif\u001b[39;00m is_valid:\n\u001b[1;32m----> 3\u001b[0m     bgf \u001b[38;5;241m=\u001b[39m \u001b[43mfit_retail_betageo\u001b[49m\u001b[43m(\u001b[49m\u001b[43mrfm_data\u001b[49m\u001b[43m)\u001b[49m\n\u001b[0;32m      5\u001b[0m \u001b[38;5;66;03m# 5. Validate model\u001b[39;00m\n\u001b[0;32m      6\u001b[0m validate_retail_betageo(bgf, rfm_data)\n",
      "Cell \u001b[1;32mIn[24], line 68\u001b[0m, in \u001b[0;36mfit_retail_betageo\u001b[1;34m(rfm_data, use_penalization, penalizer_coef)\u001b[0m\n\u001b[0;32m     66\u001b[0m     \u001b[38;5;66;03m# Use method of moments for initial estimates\u001b[39;00m\n\u001b[0;32m     67\u001b[0m     initial_params \u001b[38;5;241m=\u001b[39m estimate_initial_params(rfm_data)\n\u001b[1;32m---> 68\u001b[0m     \u001b[43mbgf\u001b[49m\u001b[38;5;241;43m.\u001b[39;49m\u001b[43mfit\u001b[49m\u001b[43m(\u001b[49m\u001b[43mrfm_data\u001b[49m\u001b[43m[\u001b[49m\u001b[38;5;124;43m'\u001b[39;49m\u001b[38;5;124;43mfrequency\u001b[39;49m\u001b[38;5;124;43m'\u001b[39;49m\u001b[43m]\u001b[49m\u001b[43m,\u001b[49m\u001b[43m \u001b[49m\u001b[43mrfm_data\u001b[49m\u001b[43m[\u001b[49m\u001b[38;5;124;43m'\u001b[39;49m\u001b[38;5;124;43mrecency\u001b[39;49m\u001b[38;5;124;43m'\u001b[39;49m\u001b[43m]\u001b[49m\u001b[43m,\u001b[49m\u001b[43m \u001b[49m\u001b[43mrfm_data\u001b[49m\u001b[43m[\u001b[49m\u001b[38;5;124;43m'\u001b[39;49m\u001b[38;5;124;43mT\u001b[39;49m\u001b[38;5;124;43m'\u001b[39;49m\u001b[43m]\u001b[49m\u001b[43m,\u001b[49m\n\u001b[0;32m     69\u001b[0m \u001b[43m           \u001b[49m\u001b[43minitial_params\u001b[49m\u001b[38;5;241;43m=\u001b[39;49m\u001b[43minitial_params\u001b[49m\u001b[43m)\u001b[49m\n\u001b[0;32m     70\u001b[0m     best_model \u001b[38;5;241m=\u001b[39m bgf\n\u001b[0;32m     72\u001b[0m \u001b[38;5;28;01mreturn\u001b[39;00m best_model\n",
      "File \u001b[1;32mc:\\Users\\HP\\anaconda3\\envs\\online_retail_env\\Lib\\site-packages\\lifetimes\\fitters\\beta_geo_fitter.py:137\u001b[0m, in \u001b[0;36mBetaGeoFitter.fit\u001b[1;34m(self, frequency, recency, T, weights, initial_params, verbose, tol, index, **kwargs)\u001b[0m\n\u001b[0;32m    134\u001b[0m scaled_recency \u001b[38;5;241m=\u001b[39m recency \u001b[38;5;241m*\u001b[39m \u001b[38;5;28mself\u001b[39m\u001b[38;5;241m.\u001b[39m_scale\n\u001b[0;32m    135\u001b[0m scaled_T \u001b[38;5;241m=\u001b[39m T \u001b[38;5;241m*\u001b[39m \u001b[38;5;28mself\u001b[39m\u001b[38;5;241m.\u001b[39m_scale\n\u001b[1;32m--> 137\u001b[0m log_params_, \u001b[38;5;28mself\u001b[39m\u001b[38;5;241m.\u001b[39m_negative_log_likelihood_, \u001b[38;5;28mself\u001b[39m\u001b[38;5;241m.\u001b[39m_hessian_ \u001b[38;5;241m=\u001b[39m \u001b[38;5;28;43mself\u001b[39;49m\u001b[38;5;241;43m.\u001b[39;49m\u001b[43m_fit\u001b[49m\u001b[43m(\u001b[49m\n\u001b[0;32m    138\u001b[0m \u001b[43m    \u001b[49m\u001b[43m(\u001b[49m\u001b[43mfrequency\u001b[49m\u001b[43m,\u001b[49m\u001b[43m \u001b[49m\u001b[43mscaled_recency\u001b[49m\u001b[43m,\u001b[49m\u001b[43m \u001b[49m\u001b[43mscaled_T\u001b[49m\u001b[43m,\u001b[49m\u001b[43m \u001b[49m\u001b[43mweights\u001b[49m\u001b[43m,\u001b[49m\u001b[43m \u001b[49m\u001b[38;5;28;43mself\u001b[39;49m\u001b[38;5;241;43m.\u001b[39;49m\u001b[43mpenalizer_coef\u001b[49m\u001b[43m)\u001b[49m\u001b[43m,\u001b[49m\n\u001b[0;32m    139\u001b[0m \u001b[43m    \u001b[49m\u001b[43minitial_params\u001b[49m\u001b[43m,\u001b[49m\n\u001b[0;32m    140\u001b[0m \u001b[43m    \u001b[49m\u001b[38;5;241;43m4\u001b[39;49m\u001b[43m,\u001b[49m\n\u001b[0;32m    141\u001b[0m \u001b[43m    \u001b[49m\u001b[43mverbose\u001b[49m\u001b[43m,\u001b[49m\n\u001b[0;32m    142\u001b[0m \u001b[43m    \u001b[49m\u001b[43mtol\u001b[49m\u001b[43m,\u001b[49m\n\u001b[0;32m    143\u001b[0m \u001b[43m    \u001b[49m\u001b[38;5;241;43m*\u001b[39;49m\u001b[38;5;241;43m*\u001b[39;49m\u001b[43mkwargs\u001b[49m\n\u001b[0;32m    144\u001b[0m \u001b[43m\u001b[49m\u001b[43m)\u001b[49m\n\u001b[0;32m    146\u001b[0m \u001b[38;5;28mself\u001b[39m\u001b[38;5;241m.\u001b[39mparams_ \u001b[38;5;241m=\u001b[39m pd\u001b[38;5;241m.\u001b[39mSeries(np\u001b[38;5;241m.\u001b[39mexp(log_params_), index\u001b[38;5;241m=\u001b[39m[\u001b[38;5;124m\"\u001b[39m\u001b[38;5;124mr\u001b[39m\u001b[38;5;124m\"\u001b[39m, \u001b[38;5;124m\"\u001b[39m\u001b[38;5;124malpha\u001b[39m\u001b[38;5;124m\"\u001b[39m, \u001b[38;5;124m\"\u001b[39m\u001b[38;5;124ma\u001b[39m\u001b[38;5;124m\"\u001b[39m, \u001b[38;5;124m\"\u001b[39m\u001b[38;5;124mb\u001b[39m\u001b[38;5;124m\"\u001b[39m])\n\u001b[0;32m    147\u001b[0m \u001b[38;5;28mself\u001b[39m\u001b[38;5;241m.\u001b[39mparams_[\u001b[38;5;124m\"\u001b[39m\u001b[38;5;124malpha\u001b[39m\u001b[38;5;124m\"\u001b[39m] \u001b[38;5;241m/\u001b[39m\u001b[38;5;241m=\u001b[39m \u001b[38;5;28mself\u001b[39m\u001b[38;5;241m.\u001b[39m_scale\n",
      "File \u001b[1;32mc:\\Users\\HP\\anaconda3\\envs\\online_retail_env\\Lib\\site-packages\\lifetimes\\fitters\\__init__.py:115\u001b[0m, in \u001b[0;36mBaseFitter._fit\u001b[1;34m(self, minimizing_function_args, initial_params, params_size, disp, tol, bounds, **kwargs)\u001b[0m\n\u001b[0;32m    113\u001b[0m     \u001b[38;5;28;01mreturn\u001b[39;00m output\u001b[38;5;241m.\u001b[39mx, output\u001b[38;5;241m.\u001b[39mfun, hessian_\n\u001b[0;32m    114\u001b[0m \u001b[38;5;28mprint\u001b[39m(output)\n\u001b[1;32m--> 115\u001b[0m \u001b[38;5;28;01mraise\u001b[39;00m ConvergenceError(\n\u001b[0;32m    116\u001b[0m     dedent(\n\u001b[0;32m    117\u001b[0m \u001b[38;5;250m        \u001b[39m\u001b[38;5;124;03m\"\"\"\u001b[39;00m\n\u001b[0;32m    118\u001b[0m \u001b[38;5;124;03m    The model did not converge. Try adding a larger penalizer to see if that helps convergence.\u001b[39;00m\n\u001b[0;32m    119\u001b[0m \u001b[38;5;124;03m    \"\"\"\u001b[39;00m\n\u001b[0;32m    120\u001b[0m     )\n\u001b[0;32m    121\u001b[0m )\n",
      "\u001b[1;31mConvergenceError\u001b[0m: \nThe model did not converge. Try adding a larger penalizer to see if that helps convergence.\n"
     ]
    }
   ],
   "source": [
    "# 4. Fit BetaGeo model\n",
    "if is_valid:\n",
    "    bgf = fit_retail_betageo(rfm_data)\n",
    "    \n",
    "# 5. Validate model\n",
    "validate_retail_betageo(bgf, rfm_data)\n",
    "\n",
    "print(\"Model ready for predictions!\")"
   ]
  },
  {
   "cell_type": "code",
   "execution_count": 23,
   "id": "2d1d679d",
   "metadata": {},
   "outputs": [],
   "source": [
    "def find_boundaries(df, variable,q1=0.05,q2=0.95):\n",
    "# the boundaries are the quantiles\n",
    "    lower_boundary = df[variable].quantile(q1) # lower quantile\n",
    "    upper_boundary = df[variable].quantile(q2) # upper quantile\n",
    "    \n",
    "    return upper_boundary, lower_boundary\n",
    "\n",
    "def capping_outliers(df,variable):\n",
    "    upper_boundary,lower_boundary =  find_boundaries(df,variable)\n",
    "    df.loc[df[variable] > upper_boundary, variable] = upper_boundary  # cap values\n",
    "    df.loc[df[variable] < lower_boundary, variable] = lower_boundary  # cap values\n",
    "    "
   ]
  },
  {
   "cell_type": "code",
   "execution_count": 24,
   "id": "daf1ef53",
   "metadata": {},
   "outputs": [],
   "source": [
    "# capping values\n",
    "capping_outliers(df,'Quantity')\n",
    "capping_outliers(df,'UnitPrice')"
   ]
  },
  {
   "cell_type": "code",
   "execution_count": 25,
   "id": "2681ceae",
   "metadata": {},
   "outputs": [
    {
     "data": {
      "image/png": "[encoded data removed]",
      "text/plain": [
       "<Figure size 1000x600 with 2 Axes>"
      ]
     },
     "metadata": {},
     "output_type": "display_data"
    }
   ],
   "source": [
    "plt.figure(figsize = (10,6))\n",
    "plt.subplot(1,2,1)\n",
    "sns.boxplot(df['Quantity'],color = 'skyblue')\n",
    "plt.xlabel('Quantity')\n",
    "\n",
    "plt.subplot(1,2,2)\n",
    "sns.boxplot(df['UnitPrice'],color = 'lightgreen')\n",
    "plt.title('UnitPrice')\n",
    "\n",
    "plt.show()"
   ]
  },
  {
   "cell_type": "code",
   "execution_count": 26,
   "id": "ee185710",
   "metadata": {},
   "outputs": [
    {
     "data": {
      "text/html": [
       "<div>\n",
       "<style scoped>\n",
       "    .dataframe tbody tr th:only-of-type {\n",
       "        vertical-align: middle;\n",
       "    }\n",
       "\n",
       "    .dataframe tbody tr th {\n",
       "        vertical-align: top;\n",
       "    }\n",
       "\n",
       "    .dataframe thead th {\n",
       "        text-align: right;\n",
       "    }\n",
       "</style>\n",
       "<table border=\"1\" class=\"dataframe\">\n",
       "  <thead>\n",
       "    <tr style=\"text-align: right;\">\n",
       "      <th></th>\n",
       "      <th>InvoiceNo</th>\n",
       "      <th>Quantity</th>\n",
       "      <th>UnitPrice</th>\n",
       "      <th>CustomerID</th>\n",
       "    </tr>\n",
       "  </thead>\n",
       "  <tbody>\n",
       "    <tr>\n",
       "      <th>count</th>\n",
       "      <td>396340.000000</td>\n",
       "      <td>396340.000000</td>\n",
       "      <td>396340.000000</td>\n",
       "      <td>396340.000000</td>\n",
       "    </tr>\n",
       "    <tr>\n",
       "      <th>mean</th>\n",
       "      <td>560618.888861</td>\n",
       "      <td>8.889794</td>\n",
       "      <td>2.656885</td>\n",
       "      <td>15301.689070</td>\n",
       "    </tr>\n",
       "    <tr>\n",
       "      <th>std</th>\n",
       "      <td>13106.340114</td>\n",
       "      <td>9.530412</td>\n",
       "      <td>2.253896</td>\n",
       "      <td>1709.957487</td>\n",
       "    </tr>\n",
       "    <tr>\n",
       "      <th>min</th>\n",
       "      <td>536365.000000</td>\n",
       "      <td>1.000000</td>\n",
       "      <td>0.420000</td>\n",
       "      <td>12346.000000</td>\n",
       "    </tr>\n",
       "    <tr>\n",
       "      <th>25%</th>\n",
       "      <td>549235.000000</td>\n",
       "      <td>2.000000</td>\n",
       "      <td>1.250000</td>\n",
       "      <td>13975.000000</td>\n",
       "    </tr>\n",
       "    <tr>\n",
       "      <th>50%</th>\n",
       "      <td>561893.000000</td>\n",
       "      <td>6.000000</td>\n",
       "      <td>1.950000</td>\n",
       "      <td>15159.000000</td>\n",
       "    </tr>\n",
       "    <tr>\n",
       "      <th>75%</th>\n",
       "      <td>572092.000000</td>\n",
       "      <td>12.000000</td>\n",
       "      <td>3.750000</td>\n",
       "      <td>16803.000000</td>\n",
       "    </tr>\n",
       "    <tr>\n",
       "      <th>max</th>\n",
       "      <td>581587.000000</td>\n",
       "      <td>36.000000</td>\n",
       "      <td>8.500000</td>\n",
       "      <td>18287.000000</td>\n",
       "    </tr>\n",
       "  </tbody>\n",
       "</table>\n",
       "</div>"
      ],
      "text/plain": [
       "           InvoiceNo       Quantity      UnitPrice     CustomerID\n",
       "count  396340.000000  396340.000000  396340.000000  396340.000000\n",
       "mean   560618.888861       8.889794       2.656885   15301.689070\n",
       "std     13106.340114       9.530412       2.253896    1709.957487\n",
       "min    536365.000000       1.000000       0.420000   12346.000000\n",
       "25%    549235.000000       2.000000       1.250000   13975.000000\n",
       "50%    561893.000000       6.000000       1.950000   15159.000000\n",
       "75%    572092.000000      12.000000       3.750000   16803.000000\n",
       "max    581587.000000      36.000000       8.500000   18287.000000"
      ]
     },
     "execution_count": 26,
     "metadata": {},
     "output_type": "execute_result"
    }
   ],
   "source": [
    "df.describe()"
   ]
  },
  {
   "cell_type": "code",
   "execution_count": 27,
   "id": "29066270",
   "metadata": {},
   "outputs": [],
   "source": [
    "df['value'] = df['Quantity']*df['UnitPrice']"
   ]
  },
  {
   "cell_type": "code",
   "execution_count": 28,
   "id": "85f1e4ef",
   "metadata": {},
   "outputs": [
    {
     "data": {
      "text/html": [
       "<div>\n",
       "<style scoped>\n",
       "    .dataframe tbody tr th:only-of-type {\n",
       "        vertical-align: middle;\n",
       "    }\n",
       "\n",
       "    .dataframe tbody tr th {\n",
       "        vertical-align: top;\n",
       "    }\n",
       "\n",
       "    .dataframe thead th {\n",
       "        text-align: right;\n",
       "    }\n",
       "</style>\n",
       "<table border=\"1\" class=\"dataframe\">\n",
       "  <thead>\n",
       "    <tr style=\"text-align: right;\">\n",
       "      <th></th>\n",
       "      <th>frequency</th>\n",
       "      <th>recency</th>\n",
       "      <th>T</th>\n",
       "      <th>monetary_value</th>\n",
       "    </tr>\n",
       "    <tr>\n",
       "      <th>CustomerID</th>\n",
       "      <th></th>\n",
       "      <th></th>\n",
       "      <th></th>\n",
       "      <th></th>\n",
       "    </tr>\n",
       "  </thead>\n",
       "  <tbody>\n",
       "    <tr>\n",
       "      <th>12346.0</th>\n",
       "      <td>0.0</td>\n",
       "      <td>0.0</td>\n",
       "      <td>325.0</td>\n",
       "      <td>0.000000</td>\n",
       "    </tr>\n",
       "    <tr>\n",
       "      <th>12347.0</th>\n",
       "      <td>6.0</td>\n",
       "      <td>365.0</td>\n",
       "      <td>367.0</td>\n",
       "      <td>550.570000</td>\n",
       "    </tr>\n",
       "    <tr>\n",
       "      <th>12348.0</th>\n",
       "      <td>3.0</td>\n",
       "      <td>283.0</td>\n",
       "      <td>358.0</td>\n",
       "      <td>107.626667</td>\n",
       "    </tr>\n",
       "    <tr>\n",
       "      <th>12349.0</th>\n",
       "      <td>0.0</td>\n",
       "      <td>0.0</td>\n",
       "      <td>18.0</td>\n",
       "      <td>0.000000</td>\n",
       "    </tr>\n",
       "    <tr>\n",
       "      <th>12350.0</th>\n",
       "      <td>0.0</td>\n",
       "      <td>0.0</td>\n",
       "      <td>310.0</td>\n",
       "      <td>0.000000</td>\n",
       "    </tr>\n",
       "  </tbody>\n",
       "</table>\n",
       "</div>"
      ],
      "text/plain": [
       "            frequency  recency      T  monetary_value\n",
       "CustomerID                                           \n",
       "12346.0           0.0      0.0  325.0        0.000000\n",
       "12347.0           6.0    365.0  367.0      550.570000\n",
       "12348.0           3.0    283.0  358.0      107.626667\n",
       "12349.0           0.0      0.0   18.0        0.000000\n",
       "12350.0           0.0      0.0  310.0        0.000000"
      ]
     },
     "execution_count": 28,
     "metadata": {},
     "output_type": "execute_result"
    }
   ],
   "source": [
    "# Extracting the required features\n",
    "from lifetimes.utils import summary_data_from_transaction_data\n",
    "\n",
    "clv_df = summary_data_from_transaction_data(\n",
    "    df,\n",
    "    customer_id_col='CustomerID',\n",
    "    datetime_col='InvoiceDate',\n",
    "    monetary_value_col='value'\n",
    ") \n",
    "\n",
    "clv_df.head(5)"
   ]
  },
  {
   "cell_type": "code",
   "execution_count": null,
   "id": "a21b68cb",
   "metadata": {},
   "outputs": [],
   "source": []
  },
  {
   "cell_type": "code",
   "execution_count": 29,
   "id": "ac8db354",
   "metadata": {},
   "outputs": [
    {
     "name": "stdout",
     "output_type": "stream",
     "text": [
      "<class 'pandas.core.frame.DataFrame'>\n",
      "Index: 4334 entries, 12346.0 to 18287.0\n",
      "Data columns (total 4 columns):\n",
      " #   Column          Non-Null Count  Dtype  \n",
      "---  ------          --------------  -----  \n",
      " 0   frequency       4334 non-null   float64\n",
      " 1   recency         4334 non-null   float64\n",
      " 2   T               4334 non-null   float64\n",
      " 3   monetary_value  4334 non-null   float64\n",
      "dtypes: float64(4)\n",
      "memory usage: 169.3 KB\n"
     ]
    }
   ],
   "source": [
    "clv_df.info()"
   ]
  },
  {
   "cell_type": "code",
   "execution_count": 30,
   "id": "d12fcea6",
   "metadata": {},
   "outputs": [
    {
     "name": "stdout",
     "output_type": "stream",
     "text": [
      "<class 'pandas.core.frame.DataFrame'>\n",
      "Index: 4333 entries, 12346.0 to 18287.0\n",
      "Data columns (total 4 columns):\n",
      " #   Column          Non-Null Count  Dtype  \n",
      "---  ------          --------------  -----  \n",
      " 0   frequency       4333 non-null   float64\n",
      " 1   recency         4333 non-null   float64\n",
      " 2   T               4333 non-null   float64\n",
      " 3   monetary_value  4333 non-null   float64\n",
      "dtypes: float64(4)\n",
      "memory usage: 169.3 KB\n"
     ]
    }
   ],
   "source": [
    "# Remove rows where T == 0 (no observed duration)\n",
    "clv_df = clv_df[clv_df['T'] > 0]\n",
    "clv_df.info()"
   ]
  },
  {
   "cell_type": "code",
   "execution_count": 31,
   "id": "6f61cabc",
   "metadata": {},
   "outputs": [
    {
     "data": {
      "text/html": [
       "<div>\n",
       "<style scoped>\n",
       "    .dataframe tbody tr th:only-of-type {\n",
       "        vertical-align: middle;\n",
       "    }\n",
       "\n",
       "    .dataframe tbody tr th {\n",
       "        vertical-align: top;\n",
       "    }\n",
       "\n",
       "    .dataframe thead th {\n",
       "        text-align: right;\n",
       "    }\n",
       "</style>\n",
       "<table border=\"1\" class=\"dataframe\">\n",
       "  <thead>\n",
       "    <tr style=\"text-align: right;\">\n",
       "      <th></th>\n",
       "      <th>frequency</th>\n",
       "      <th>recency</th>\n",
       "      <th>T</th>\n",
       "      <th>monetary_value</th>\n",
       "    </tr>\n",
       "  </thead>\n",
       "  <tbody>\n",
       "    <tr>\n",
       "      <th>count</th>\n",
       "      <td>4333.000000</td>\n",
       "      <td>4333.000000</td>\n",
       "      <td>4333.000000</td>\n",
       "      <td>4333.000000</td>\n",
       "    </tr>\n",
       "    <tr>\n",
       "      <th>mean</th>\n",
       "      <td>2.848835</td>\n",
       "      <td>130.637664</td>\n",
       "      <td>222.885530</td>\n",
       "      <td>218.729508</td>\n",
       "    </tr>\n",
       "    <tr>\n",
       "      <th>std</th>\n",
       "      <td>5.926605</td>\n",
       "      <td>132.261719</td>\n",
       "      <td>117.803077</td>\n",
       "      <td>286.690788</td>\n",
       "    </tr>\n",
       "    <tr>\n",
       "      <th>min</th>\n",
       "      <td>0.000000</td>\n",
       "      <td>0.000000</td>\n",
       "      <td>1.000000</td>\n",
       "      <td>0.000000</td>\n",
       "    </tr>\n",
       "    <tr>\n",
       "      <th>25%</th>\n",
       "      <td>0.000000</td>\n",
       "      <td>0.000000</td>\n",
       "      <td>112.000000</td>\n",
       "      <td>0.000000</td>\n",
       "    </tr>\n",
       "    <tr>\n",
       "      <th>50%</th>\n",
       "      <td>1.000000</td>\n",
       "      <td>93.000000</td>\n",
       "      <td>248.000000</td>\n",
       "      <td>158.400000</td>\n",
       "    </tr>\n",
       "    <tr>\n",
       "      <th>75%</th>\n",
       "      <td>3.000000</td>\n",
       "      <td>252.000000</td>\n",
       "      <td>326.000000</td>\n",
       "      <td>326.770000</td>\n",
       "    </tr>\n",
       "    <tr>\n",
       "      <th>max</th>\n",
       "      <td>129.000000</td>\n",
       "      <td>373.000000</td>\n",
       "      <td>373.000000</td>\n",
       "      <td>3537.620000</td>\n",
       "    </tr>\n",
       "  </tbody>\n",
       "</table>\n",
       "</div>"
      ],
      "text/plain": [
       "         frequency      recency            T  monetary_value\n",
       "count  4333.000000  4333.000000  4333.000000     4333.000000\n",
       "mean      2.848835   130.637664   222.885530      218.729508\n",
       "std       5.926605   132.261719   117.803077      286.690788\n",
       "min       0.000000     0.000000     1.000000        0.000000\n",
       "25%       0.000000     0.000000   112.000000        0.000000\n",
       "50%       1.000000    93.000000   248.000000      158.400000\n",
       "75%       3.000000   252.000000   326.000000      326.770000\n",
       "max     129.000000   373.000000   373.000000     3537.620000"
      ]
     },
     "execution_count": 31,
     "metadata": {},
     "output_type": "execute_result"
    }
   ],
   "source": [
    "clv_df.describe()"
   ]
  },
  {
   "cell_type": "code",
   "execution_count": 32,
   "id": "9b7440cd",
   "metadata": {},
   "outputs": [
    {
     "data": {
      "image/png": "[encoded data removed]",
      "text/plain": [
       "<Figure size 1500x500 with 3 Axes>"
      ]
     },
     "metadata": {},
     "output_type": "display_data"
    }
   ],
   "source": [
    "plt.figure(figsize=(15,5))\n",
    "\n",
    "plt.subplot(1,3,1)\n",
    "sns.boxplot(clv_df['monetary_value'],color = 'skyblue')\n",
    "plt.title('Monetary Value Boxplot')\n",
    "\n",
    "plt.subplot(1,3,2)\n",
    "sns.boxplot(clv_df['frequency'],color = 'lightgreen')\n",
    "plt.title('Frequency Boxplot')\n",
    "\n",
    "plt.subplot(1,3,3)\n",
    "sns.boxplot(clv_df['recency'],color = 'salmon')\n",
    "plt.title('Recency Boxplot')\n",
    "\n",
    "plt.tight_layout()\n",
    "plt.show()"
   ]
  },
  {
   "cell_type": "code",
   "execution_count": 11,
   "id": "31cf2930",
   "metadata": {},
   "outputs": [],
   "source": [
    "# M_Q1 = clv_sdf['monetary_value'].quantile(0.25)\n",
    "# M_Q3 = clv_sdf['monetary_value'].quantile(0.75)\n",
    "# M_IQR = M_Q3 - M_Q1\n",
    "\n",
    "# # seperating outlier\n",
    "# monetary_outliers_df = clv_sdf[(clv_sdf['monetary_value'] > (M_Q3 + M_IQR*1.25)) | \n",
    "#                                     (clv_sdf['monetary_value'] < (M_Q1 - M_IQR*1.25))].copy()\n",
    "# monetary_outliers_df.describe()"
   ]
  },
  {
   "cell_type": "code",
   "execution_count": 12,
   "id": "9482333e",
   "metadata": {},
   "outputs": [],
   "source": [
    "# F_Q1 = clv_sdf['frequency'].quantile(0.25)\n",
    "# F_Q3 = clv_sdf['frequency'].quantile(0.75)\n",
    "# F_IQR = F_Q3 - F_Q1\n",
    "\n",
    "# # seperating outlier\n",
    "# frequency_outliers_df = clv_sdf[(clv_sdf['frequency'] > (F_Q3 + F_IQR*1.25)) | \n",
    "#                                     (clv_sdf['frequency'] < (F_Q1 - F_IQR*1.25))].copy()\n",
    "# frequency_outliers_df.describe()"
   ]
  },
  {
   "cell_type": "code",
   "execution_count": 13,
   "id": "96e09230",
   "metadata": {},
   "outputs": [],
   "source": [
    "# non_outliers_df = clv_sdf[(~clv_sdf.index.isin(monetary_outliers_df.index)) &\n",
    "#                                (~clv_sdf.index.isin(frequency_outliers_df.index))]\n",
    "# non_outliers_df.describe()"
   ]
  },
  {
   "cell_type": "code",
   "execution_count": 14,
   "id": "4fe8b4f2",
   "metadata": {},
   "outputs": [],
   "source": [
    "# plt.figure(figsize=(15,5))\n",
    "\n",
    "# plt.subplot(1,3,1)\n",
    "# sns.boxplot(non_outliers_df['monetary_value'],color = 'skyblue')\n",
    "# plt.title('Monetary Value Boxplot')\n",
    "\n",
    "# plt.subplot(1,3,2)\n",
    "# sns.boxplot(non_outliers_df['frequency'],color = 'lightgreen')\n",
    "# plt.title('Frequency Boxplot')\n",
    "\n",
    "# plt.subplot(1,3,3)\n",
    "# sns.boxplot(non_outliers_df['recency'],color = 'salmon')\n",
    "# plt.title('Recency Boxplot')\n",
    "\n",
    "# plt.tight_layout()\n",
    "# plt.show()"
   ]
  },
  {
   "cell_type": "code",
   "execution_count": 15,
   "id": "9134c071",
   "metadata": {},
   "outputs": [],
   "source": [
    "# removing the customers with single purchase\n",
    "# clv_sdf = \n",
    "# clv_sdf = clv_sdf[clv_sdf['frequency'] != 0]\n",
    "# clv_sdf.head(5)"
   ]
  },
  {
   "cell_type": "code",
   "execution_count": null,
   "id": "a2488ff1",
   "metadata": {},
   "outputs": [
    {
     "data": {
      "text/html": [
       "<div>\n",
       "<style scoped>\n",
       "    .dataframe tbody tr th:only-of-type {\n",
       "        vertical-align: middle;\n",
       "    }\n",
       "\n",
       "    .dataframe tbody tr th {\n",
       "        vertical-align: top;\n",
       "    }\n",
       "\n",
       "    .dataframe thead th {\n",
       "        text-align: right;\n",
       "    }\n",
       "</style>\n",
       "<table border=\"1\" class=\"dataframe\">\n",
       "  <thead>\n",
       "    <tr style=\"text-align: right;\">\n",
       "      <th></th>\n",
       "      <th>frequency</th>\n",
       "      <th>recency</th>\n",
       "      <th>T</th>\n",
       "      <th>monetary_value</th>\n",
       "      <th>frequency_capped</th>\n",
       "    </tr>\n",
       "    <tr>\n",
       "      <th>CustomerID</th>\n",
       "      <th></th>\n",
       "      <th></th>\n",
       "      <th></th>\n",
       "      <th></th>\n",
       "      <th></th>\n",
       "    </tr>\n",
       "  </thead>\n",
       "  <tbody>\n",
       "    <tr>\n",
       "      <th>12346.0</th>\n",
       "      <td>0.0</td>\n",
       "      <td>0.0</td>\n",
       "      <td>325.0</td>\n",
       "      <td>0.000000</td>\n",
       "      <td>0.0</td>\n",
       "    </tr>\n",
       "    <tr>\n",
       "      <th>12347.0</th>\n",
       "      <td>6.0</td>\n",
       "      <td>365.0</td>\n",
       "      <td>367.0</td>\n",
       "      <td>599.701667</td>\n",
       "      <td>6.0</td>\n",
       "    </tr>\n",
       "    <tr>\n",
       "      <th>12348.0</th>\n",
       "      <td>3.0</td>\n",
       "      <td>283.0</td>\n",
       "      <td>358.0</td>\n",
       "      <td>261.480000</td>\n",
       "      <td>3.0</td>\n",
       "    </tr>\n",
       "    <tr>\n",
       "      <th>12349.0</th>\n",
       "      <td>0.0</td>\n",
       "      <td>0.0</td>\n",
       "      <td>18.0</td>\n",
       "      <td>0.000000</td>\n",
       "      <td>0.0</td>\n",
       "    </tr>\n",
       "    <tr>\n",
       "      <th>12350.0</th>\n",
       "      <td>0.0</td>\n",
       "      <td>0.0</td>\n",
       "      <td>310.0</td>\n",
       "      <td>0.000000</td>\n",
       "      <td>0.0</td>\n",
       "    </tr>\n",
       "    <tr>\n",
       "      <th>...</th>\n",
       "      <td>...</td>\n",
       "      <td>...</td>\n",
       "      <td>...</td>\n",
       "      <td>...</td>\n",
       "      <td>...</td>\n",
       "    </tr>\n",
       "    <tr>\n",
       "      <th>18280.0</th>\n",
       "      <td>0.0</td>\n",
       "      <td>0.0</td>\n",
       "      <td>277.0</td>\n",
       "      <td>0.000000</td>\n",
       "      <td>0.0</td>\n",
       "    </tr>\n",
       "    <tr>\n",
       "      <th>18281.0</th>\n",
       "      <td>0.0</td>\n",
       "      <td>0.0</td>\n",
       "      <td>180.0</td>\n",
       "      <td>0.000000</td>\n",
       "      <td>0.0</td>\n",
       "    </tr>\n",
       "    <tr>\n",
       "      <th>18282.0</th>\n",
       "      <td>1.0</td>\n",
       "      <td>119.0</td>\n",
       "      <td>126.0</td>\n",
       "      <td>77.840000</td>\n",
       "      <td>1.0</td>\n",
       "    </tr>\n",
       "    <tr>\n",
       "      <th>18283.0</th>\n",
       "      <td>13.0</td>\n",
       "      <td>334.0</td>\n",
       "      <td>337.0</td>\n",
       "      <td>152.344615</td>\n",
       "      <td>13.0</td>\n",
       "    </tr>\n",
       "    <tr>\n",
       "      <th>18287.0</th>\n",
       "      <td>2.0</td>\n",
       "      <td>159.0</td>\n",
       "      <td>201.0</td>\n",
       "      <td>536.000000</td>\n",
       "      <td>2.0</td>\n",
       "    </tr>\n",
       "  </tbody>\n",
       "</table>\n",
       "<p>4333 rows × 5 columns</p>\n",
       "</div>"
      ],
      "text/plain": [
       "            frequency  recency      T  monetary_value  frequency_capped\n",
       "CustomerID                                                             \n",
       "12346.0           0.0      0.0  325.0        0.000000               0.0\n",
       "12347.0           6.0    365.0  367.0      599.701667               6.0\n",
       "12348.0           3.0    283.0  358.0      261.480000               3.0\n",
       "12349.0           0.0      0.0   18.0        0.000000               0.0\n",
       "12350.0           0.0      0.0  310.0        0.000000               0.0\n",
       "...               ...      ...    ...             ...               ...\n",
       "18280.0           0.0      0.0  277.0        0.000000               0.0\n",
       "18281.0           0.0      0.0  180.0        0.000000               0.0\n",
       "18282.0           1.0    119.0  126.0       77.840000               1.0\n",
       "18283.0          13.0    334.0  337.0      152.344615              13.0\n",
       "18287.0           2.0    159.0  201.0      536.000000               2.0\n",
       "\n",
       "[4333 rows x 5 columns]"
      ]
     },
     "execution_count": 25,
     "metadata": {},
     "output_type": "execute_result"
    }
   ],
   "source": [
    "# Cap frequency at 99th percentile\n",
    "# cap = clv_df['frequency'].quantile(0.99)\n",
    "# clv_df['frequency_capped'] = clv_df['frequency'].clip(upper=cap)\n",
    "# clv_df"
   ]
  },
  {
   "cell_type": "code",
   "execution_count": null,
   "id": "e409ff4b",
   "metadata": {},
   "outputs": [],
   "source": [
    "# # Remove only the top 1% of high-frequency and high-monetary customers\n",
    "# f_thresh = clv_sdf['frequency'].quantile(0.99)\n",
    "# m_thresh = clv_sdf['monetary_value'].quantile(0.99)\n",
    "\n",
    "# filtered = clv_sdf[\n",
    "#     (clv_sdf['frequency'] <= f_thresh) &\n",
    "#     (clv_sdf['monetary_value'] <= m_thresh) &\n",
    "#     (clv_sdf['T'] > 0)\n",
    "# ]\n"
   ]
  },
  {
   "cell_type": "code",
   "execution_count": 33,
   "id": "0ac036a4",
   "metadata": {},
   "outputs": [],
   "source": [
    "from lifetimes import BetaGeoFitter, GammaGammaFitter"
   ]
  },
  {
   "cell_type": "code",
   "execution_count": 35,
   "id": "52f908a5",
   "metadata": {},
   "outputs": [
    {
     "name": "stdout",
     "output_type": "stream",
     "text": [
      "            coef   se(coef)  lower 95% bound  upper 95% bound\n",
      "r       0.822930   0.026733         0.770534         0.875327\n",
      "alpha  69.090763   2.623655        63.948399        74.233127\n",
      "a       0.003097   0.010432        -0.017349         0.023543\n",
      "b       7.249028  25.889738       -43.494859        57.992914\n"
     ]
    }
   ],
   "source": [
    "model = BetaGeoFitter()\n",
    "model.fit(\n",
    "    frequency=clv_df['frequency'],\n",
    "    recency= clv_df['recency'],\n",
    "    T=clv_df['T']\n",
    ")\n",
    "print(model.summary)"
   ]
  },
  {
   "cell_type": "code",
   "execution_count": 36,
   "id": "e3a7e5f2",
   "metadata": {},
   "outputs": [],
   "source": [
    "from lifetimes import plotting"
   ]
  },
  {
   "cell_type": "code",
   "execution_count": 37,
   "id": "5b71bf6c",
   "metadata": {},
   "outputs": [
    {
     "data": {
      "text/plain": [
       "<Axes: title={'center': 'mean: 0.012, var: 0.000'}, xlabel='Transaction Rate', ylabel='Density'>"
      ]
     },
     "execution_count": 37,
     "metadata": {},
     "output_type": "execute_result"
    },
    {
     "data": {
      "image/png": "[encoded data removed]",
      "text/plain": [
       "<Figure size 640x480 with 1 Axes>"
      ]
     },
     "metadata": {},
     "output_type": "display_data"
    },
    {
     "data": {
      "image/png": "[encoded data removed]",
      "text/plain": [
       "<Figure size 640x480 with 1 Axes>"
      ]
     },
     "metadata": {},
     "output_type": "display_data"
    }
   ],
   "source": [
    "\n",
    "plotting.plot_dropout_rate_heterogeneity(model)\n",
    "plotting.plot_transaction_rate_heterogeneity(model)"
   ]
  },
  {
   "cell_type": "code",
   "execution_count": 38,
   "id": "79c20fbc",
   "metadata": {},
   "outputs": [
    {
     "data": {
      "image/png": "[encoded data removed]",
      "text/plain": [
       "<Figure size 640x480 with 2 Axes>"
      ]
     },
     "metadata": {},
     "output_type": "display_data"
    }
   ],
   "source": [
    "from lifetimes.plotting import plot_probability_alive_matrix\n",
    "\n",
    "plot_probability_alive_matrix(model);\n"
   ]
  },
  {
   "cell_type": "code",
   "execution_count": null,
   "id": "04153048",
   "metadata": {},
   "outputs": [],
   "source": []
  }
 ],
 "metadata": {
  "kernelspec": {
   "display_name": "online_retail_env",
   "language": "python",
   "name": "python3"
  },
  "language_info": {
   "codemirror_mode": {
    "name": "ipython",
    "version": 3
   },
   "file_extension": ".py",
   "mimetype": "text/x-python",
   "name": "python",
   "nbconvert_exporter": "python",
   "pygments_lexer": "ipython3",
   "version": "3.11.13"
  }
 },
 "nbformat": 4,
 "nbformat_minor": 5
}
